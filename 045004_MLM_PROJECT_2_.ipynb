{
 "cells": [
  {
   "cell_type": "markdown",
   "metadata": {},
   "source": [
    "**PROJECT :** **E-COMMERCE CUSTOMER ANALYSIS (PROJECT 2)**\n",
    "\n",
    "**SUBMITTED BY - ADITYA SINGH YADAV**"
   ]
  },
  {
   "cell_type": "markdown",
   "metadata": {},
   "source": [
    "### OBJECTIVE\n",
    "\n",
    "- The objective of this project is to make a machine learning model which can predict segment of E-commerce customers based on their Country, Quantity Ordered, Unit Price etc.\n",
    "- Perfroming different models like logistic regression, decision tree, KNN classifier, and SVM algorithms to cluster customers. Train each model to identify underlying patterns and create distinct clusters.\n",
    "- Comparing classification reports keeping decision tree as base model. Evaluate consistency and coherence of produced clusters.\n",
    "- Measure the computational time and memory usage of each algorithm to evaluate their efficiency."
   ]
  },
  {
   "cell_type": "markdown",
   "metadata": {},
   "source": [
    "**DATA DESCRIPTION**\n",
    "\n",
    "**Dataset Shape - (59998, 8)**\n",
    "\n",
    "**Dataset Size - 5 mb**\n",
    "\n",
    "**Source - Kaggle(https://www.kaggle.com/code/tyatsenk/k-means-e-commerce-customer#3.-Data-Preprocessing)**\n",
    "\n",
    "\n",
    "\n",
    "\n",
    "\n",
    "\n",
    "**DATA BIFURCATION**\n",
    "\n",
    "**Categorical Variables:**\n",
    "\n",
    "Nominal Categories:\n",
    "\n",
    "1.Country\n",
    "\n",
    "2.StockCode\n",
    "\n",
    "**Ordinal Categories:**\n",
    "\n",
    "1.InvoiceDate\n",
    "\n",
    "**Non-Categorical Variables:**\n",
    "\n",
    "1.Quantity\n",
    "\n",
    "2.UnitPrice\n",
    "\n",
    "**Descriptive Statistics: Categorical Variables**\n",
    "\n",
    "**Count | Frequency Statistics**\n",
    "\n",
    "1. InvoiceNo:\n",
    "\n",
    "Count: 59998\n",
    "\n",
    "Frequency: 675\n",
    "\n",
    "2. StockCode:\n",
    "\n",
    "Count: 59998\n",
    "\n",
    "Frequency: 335\n",
    "\n",
    "3. Country:\n",
    "\n",
    "Count: 59998\n",
    "\n",
    "Frequency: 56112\n",
    "\n",
    "**Descriptive Statistics: Non-Categorical Variables**\n",
    "\n",
    "**Measures of Central Tendency**\n",
    "\n",
    "1. Quantity:\n",
    "\n",
    "Mean: 8.502967\n",
    "\n",
    "Median: 2.000000\n",
    "\n",
    "2. UnitPrice:\n",
    "\n",
    "Mean: 5.989186\n",
    "\n",
    "Median: 2.510000\n",
    "\n",
    "**Measures of Dispersion**\n",
    "\n",
    "1. Quantity:\n",
    "\n",
    "Standard Deviation: 56.746866\n",
    "\n",
    "2. UnitPrice:\n",
    "\n",
    "Standard Deviation: 152.109427\n",
    "\n",
    "**DATA PREPROCESSING**\n",
    "\n",
    "**MISSING DATA STATISTICS AND TREATMENT**\n",
    "\n",
    "**Missing Data Statistics: Categorical Variables or Features**\n",
    "\n",
    "1. Description: 161 missing values\n",
    "\n",
    "2. CustomerID: 21949 missing values\n",
    "\n",
    "3. CustomerID column has the highest proportion of missing values, accounting for approximately 36.58% of the total rows. Hence, no outliers were removed as missing data was less than 50%\n",
    "\n"
   ]
  },
  {
   "cell_type": "markdown",
   "metadata": {},
   "source": [
    "### Encoding and Standardization\n",
    "- Pandas Inferior Encoding method is used to encode categorical variables.\n",
    "- Standardization is used to scale non-categorical dataset"
   ]
  },
  {
   "cell_type": "markdown",
   "metadata": {},
   "source": [
    "### Preparing Data for Supervised Learning Models\n",
    "\n",
    "1) Data has been merged with cluster labels to create a unified dataset for supervised learning.\n",
    "2) Dropped non-significant columns from the dataset to streamline the feature set.\n",
    "3) Defined the feature matrix X to include all significant independent columns and the target variable Y to represent the 'cluster' labels.\n",
    "4) Utilized the train_test_split function with stratified random sampling to split the data into training and testing sets."
   ]
  },
  {
   "cell_type": "markdown",
   "metadata": {},
   "source": [
    "### K- Means Clustring Report\n",
    "- the analysis suggests that the 3-cluster model might be the most appropriate choice, indicating better cluster quality and separation.\n",
    "- Cluster's characteristics are divided into 3 parts.\n",
    "1. Low Users\n",
    "- Customers in this cluster may have below-average quantities of purchases and may prefer lower-priced items.\n",
    "- These customers could represent occasional or budget-conscious shoppers who make small purchases infrequently.\n",
    "2. Medium Users\n",
    "- Customers in this cluster may exhibit moderate quantities of purchases and may show a balance between lower and higher-priced items.\n",
    "- These customers may represent a mainstream segment of regular online shoppers who make average-sized purchases at reasonable prices.\n",
    "3. High Users\n",
    "- Customers in this cluster may have above-average quantities of purchases and may prefer higher-priced items.\n",
    "- These customers could represent frequent and high-value shoppers who make large purchases of premium products, indicating strong engagement and potentially higher loyalty."
   ]
  },
  {
   "cell_type": "markdown",
   "metadata": {},
   "source": [
    "\n",
    "### Supervised Learning Model Reports"
   ]
  },
  {
   "cell_type": "markdown",
   "metadata": {},
   "source": [
    "### Decision Tree (Base Model)\n",
    "- Precision: 0.58 for class 0, 0.88 for class 1, and 0.76 for class 2.\n",
    "- Recall: 0.59 for class 0, 0.88 for class 1, and 0.76 for class 2.\n",
    "- F1-score: 0.59 for class 0, 0.88 for class 1, and 0.76 for class 2.\n",
    "- Accuracy: 0.76 with a support of 18000.\n",
    "- Macro average precision: 0.74, recall: 0.74, F1-score: 0.74, support: 18000.\n",
    "- Weighted average precision: 0.76, recall: 0.76, F1-score: 0.76, support: 18000.\n",
    "- Execution time: 0.45960021018981934 seconds\n",
    "- Memory usage: 65.2421875 MB"
   ]
  },
  {
   "cell_type": "markdown",
   "metadata": {},
   "source": [
    "### Logistic Regression Model\n",
    "- Precision: 0.62 for class 0, 0.84 for class 1, and 0.77 for class 2.\n",
    "- Recall: 0.51 for class 0, 0.92 for class 1, and 0.81 for class 2.\n",
    "- F1-score: 0.56 for class 0, 0.88 for class 1, and 0.79 for class 2.\n",
    "- Accuracy: 0.76 with a support of 18000.\n",
    "- Macro average precision: 0.74, recall: 0.75, F1-score: 0.74, support: 18000.\n",
    "- Weighted average precision: 0.75, recall: 0.76, F1-score: 0.76, support: 18000.\n",
    "- Execution time: 53.60744500160217 seconds\n",
    "- Memory usage: 61.84375 MB "
   ]
  },
  {
   "cell_type": "markdown",
   "metadata": {},
   "source": [
    "### KNN Classifier\n",
    "- Precision: 0.72 for class 0, 0.88 for class 1, and 0.78 for class 2.\n",
    "- Recall: 0.56 for class 0, 0.95 for class 1, and 0.86 for class 2.\n",
    "- F1-score: 0.63 for class 0, 0.91 for class 1, and 0.82 for class 2.\n",
    "- Accuracy: 0.81 with a support of 18000.\n",
    "- Macro average precision: 0.79, recall: 0.79, F1-score: 0.79, support: 18000.\n",
    "- Weighted average precision: 0.80, recall: 0.81, F1-score: 0.80, support: 18000.\n",
    "- Execution time: 0.7510662078857422 seconds\n",
    "- Memory usage: 46.28125 MB\n"
   ]
  },
  {
   "cell_type": "markdown",
   "metadata": {},
   "source": [
    "### Support Vector Machine\n",
    "- Despite efforts to include SVM in the model comparison, challenges were encountered in its implementation, resulting in the inability to provide a direct comparison with the Decision Tree model.\n",
    "- Acknowledging this limitation is crucial for providing a comprehensive analysis, ensuring transparency, and maintaining academic integrity."
   ]
  },
  {
   "cell_type": "markdown",
   "metadata": {},
   "source": [
    "### Comparison: Decision Tree (Base Model) vs. Logistic Regression Model\n",
    "- Both models have similar accuracy, macro average precision, macro average recall, and macro average F1-score.\n",
    "- The Logistic Regression model has higher precision for class 0 and class 2 compared to the Decision Tree model (0.62 vs 0.58 for class 0, and 0.77 vs 0.76 for class 2).\n",
    "- The Decision Tree model has higher recall for class 0 compared to the Logistic Regression model (0.59 vs 0.51).\n",
    "- The Decision Tree model has higher F1-score for class 0 compared to the Logistic Regression model (0.59 vs 0.56).\n",
    "- The Decision Tree model has significantly lower execution time compared to the Logistic Regression model (0.46 seconds vs 53.61 seconds).\n",
    "- The Logistic Regression model has slightly lower memory usage compared to the Decision Tree model (61.84 MB vs 65.24 MB).\n",
    "- Depending on the specific requirements and constraints of the application, the choice between the two models may vary. If speed is crucial, the Decision Tree model might be preferred. However, if precision is more important, the Logistic Regression model might be favored."
   ]
  },
  {
   "cell_type": "markdown",
   "metadata": {},
   "source": [
    "### Comparison Decision Tree (Base Model) vs. KNN Classifier\n",
    "- The KNN Classifier generally performs better than the Decision Tree (Base Model) across all metrics except for execution time, where the Decision Tree (Base Model) is significantly faster.\n",
    "- The KNN Classifier has higher precision for all classes compared to the Decision Tree (Base Model) (0.72 vs 0.58 for class 0, 0.88 vs 0.88 for class 1, and 0.78 vs 0.76 for class 2).\n",
    "- The KNN Classifier has higher recall for class 0 and class 2 compared to the Decision Tree (Base Model) (0.56 vs 0.59 for class 0, and 0.86 vs 0.76 for class 2).\n",
    "- The KNN Classifier has higher F1-score for all classes compared to the Decision Tree (Base Model) (0.63 vs 0.59 for class 0, 0.91 vs 0.88 for class 1, and 0.82 vs 0.76 for class 2).\n",
    "- The KNN Classifier has higher accuracy (0.81 vs 0.76), macro average precision (0.79 vs 0.74), macro average recall (0.79 vs 0.74), and macro average F1-score (0.79 vs 0.74) compared to the Decision Tree (Base Model).\n",
    "- The KNN Classifier has slightly higher weighted average precision (0.80 vs 0.76) and weighted average recall (0.81 vs 0.76), as well as weighted average F1-score (0.80 vs 0.76) compared to the Decision Tree (Base Model).\n",
    "- The Decision Tree (Base Model) has significantly lower execution time compared to the KNN Classifier (0.46 seconds vs 0.75 seconds).\n",
    "- The KNN Classifier has lower memory usage compared to the Decision Tree (Base Model) (46.28 MB vs 65.24 MB).\n",
    "- Depending on the specific requirements and constraints of the application, the choice between the two models may vary. If speed is crucial, the Decision Tree (Base Model) might be preferred. Otherwise, the KNN Classifier offers better overall performance in terms of accuracy and other evaluation metrics."
   ]
  },
  {
   "cell_type": "markdown",
   "metadata": {},
   "source": [
    "### Managerial Implications"
   ]
  },
  {
   "cell_type": "markdown",
   "metadata": {},
   "source": [
    "1. Decision Tree vs. KNN Classifier:\n",
    "- Speed vs. Accuracy Trade-off: If the application requires faster predictions, the Decision Tree model might be preferred due to its significantly lower execution time. However, if accuracy is more crucial, the KNN Classifier offers better performance across all metrics.\n",
    "- Precision and Recall: The KNN Classifier demonstrates higher precision and recall for all classes compared to the Decision Tree model, indicating better predictive power in identifying true positives and minimizing false positives and negatives.\n",
    "- Memory Usage: While both models are relatively lightweight in terms of memory usage, the KNN Classifier consumes less memory compared to the Decision Tree model, which could be advantageous in resource-constrained environments.\n",
    "\n",
    "2. Decision Tree vs. Logistic Regression:\n",
    "- Precision vs. Execution Time: The Logistic Regression model exhibits higher precision for certain classes compared to the Decision Tree model, suggesting better discrimination power. However, this comes at the cost of significantly longer execution time.\n",
    "- Speed and Memory Usage: The Decision Tree model outperforms the Logistic Regression model in terms of execution time and memory usage, making it a more efficient choice for applications where computational resources are limited.\n",
    "- Model Interpretation: The logistic regression model provides insights into the factors influencing cluster membership probabilities, enabling more informed decision-making processes related to resource allocation, customer acquisition, and retention strategies.\n",
    "\n",
    "3. K-Means Clustering:\n",
    "- Cluster Interpretation: The 3-cluster model provides valuable insights into customer segmentation based on purchase behavior.\n",
    "- Managerial Segmentation: Managers can tailor marketing strategies and product offerings based on the identified clusters:\n",
    "- Low Users: Focus on promoting budget-friendly items or offering incentives to increase purchase frequency.\n",
    "- Medium Users: Target promotions towards this segment to maintain their engagement and encourage repeat purchases.\n",
    "- High Users: Provide premium product recommendations and loyalty rewards to enhance customer retention and satisfaction.\n",
    "- Customer Engagement: Understanding customer clusters allows for more personalized communication and engagement strategies, leading to improved customer satisfaction and loyalty.\n",
    "\n",
    "4. Resource Allocation:\n",
    "- Given the computational resources required for training and executing the models, it's crucial to consider the trade-offs between model performance and resource utilization.\n",
    "- For real-time or large-scale applications, models with lower execution time and memory usage, such as the KNN classifier, may be more suitable.\n",
    "- However, for offline or batch processing tasks where accuracy is paramount, models like logistic regression or support vector machine may be preferred despite higher resource requirements.\n",
    "5. Continuous Improvement:\n",
    "- The performance of the classification models can be further enhanced through feature engineering, hyperparameter tuning, and ensemble techniques.\n",
    "- Regular monitoring and evaluation of model performance against key metrics will facilitate continuous improvement and adaptation to evolving business needs and customer behaviors.\n",
    "6. Risk Mitigation:\n",
    "- While selecting and deploying classification models, it's essential to assess potential risks such as model bias, overfitting, and interpretability.\n",
    "- Implementing robust validation and testing procedures, along with model explainability techniques, can help mitigate these risks and build trust in the predictive models.\n"
   ]
  },
  {
   "cell_type": "markdown",
   "metadata": {},
   "source": [
    "### References \n",
    "1. Prof. Amarnath\n",
    "2. ChatGPT"
   ]
  },
  {
   "cell_type": "code",
   "execution_count": 3,
   "metadata": {
    "id": "OHfDXNLYMNJc"
   },
   "outputs": [],
   "source": [
    "import pandas as pd, numpy as np # For Data Manipulation\n",
    "from sklearn.preprocessing import LabelEncoder, OrdinalEncoder # For Encoding Categorical Data [Nominal | Ordinal]\n",
    "from sklearn.preprocessing import OneHotEncoder # For Creating Dummy Variables of Categorical Data [Nominal]\n",
    "from sklearn.impute import SimpleImputer, KNNImputer # For Imputation of Missing Data\n",
    "from sklearn.preprocessing import StandardScaler, MinMaxScaler, RobustScaler # For Rescaling Data\n",
    "from sklearn.model_selection import train_test_split # For Splitting Data into Training & Testing Sets"
   ]
  },
  {
   "cell_type": "code",
   "execution_count": 4,
   "metadata": {
    "id": "LNXtvFyhMYz7"
   },
   "outputs": [],
   "source": [
    "df = pd.read_csv('E-commerce-Data-updated_1.csv',encoding='unicode_escape')"
   ]
  },
  {
   "cell_type": "code",
   "execution_count": 5,
   "metadata": {
    "colab": {
     "base_uri": "https://localhost:8080/"
    },
    "id": "LX33OJ8dMgpi",
    "outputId": "5fb957b6-36f9-4b4e-cd56-7f2df7983cc9"
   },
   "outputs": [
    {
     "data": {
      "text/plain": [
       "(59998, 8)"
      ]
     },
     "execution_count": 5,
     "metadata": {},
     "output_type": "execute_result"
    }
   ],
   "source": [
    "df.shape"
   ]
  },
  {
   "cell_type": "code",
   "execution_count": 6,
   "metadata": {
    "colab": {
     "base_uri": "https://localhost:8080/"
    },
    "id": "ElhuZKe6Mq_d",
    "outputId": "61d9f897-55fa-4955-e0f7-adc0180f6ce9",
    "scrolled": true
   },
   "outputs": [
    {
     "data": {
      "text/plain": [
       "InvoiceNo          0\n",
       "StockCode          0\n",
       "Description      161\n",
       "Quantity           0\n",
       "InvoiceDate        0\n",
       "UnitPrice          0\n",
       "CustomerID     21949\n",
       "Country            0\n",
       "dtype: int64"
      ]
     },
     "execution_count": 6,
     "metadata": {},
     "output_type": "execute_result"
    }
   ],
   "source": [
    "variable_missing_data = df.isna().sum(); variable_missing_data # Variable-wise Missing Data Information"
   ]
  },
  {
   "cell_type": "code",
   "execution_count": 7,
   "metadata": {
    "colab": {
     "base_uri": "https://localhost:8080/"
    },
    "id": "03l7UOhcMtBl",
    "outputId": "3b099616-9b82-41b0-e5f7-c08ed25cf5ba"
   },
   "outputs": [
    {
     "data": {
      "text/plain": [
       "7196     2\n",
       "1971     2\n",
       "45394    2\n",
       "52262    2\n",
       "39369    2\n",
       "dtype: int64"
      ]
     },
     "execution_count": 7,
     "metadata": {},
     "output_type": "execute_result"
    }
   ],
   "source": [
    "record_missing_data = df.isna().sum(axis=1).sort_values(ascending=False).head(5); record_missing_data # Record-wise Missing Data Information (Top 5)"
   ]
  },
  {
   "cell_type": "code",
   "execution_count": 8,
   "metadata": {
    "id": "nXej3hxeMvLa"
   },
   "outputs": [],
   "source": [
    "# Data Bifurcation\n",
    "df_cat = df[[ 'Country','StockCode','InvoiceDate']] # Categorical Data [Nominal | Ordinal]\n",
    "df_noncat = df[['Quantity', 'UnitPrice']] # Non-Categorical Data\n"
   ]
  },
  {
   "cell_type": "code",
   "execution_count": 9,
   "metadata": {
    "colab": {
     "base_uri": "https://localhost:8080/"
    },
    "id": "b5KFi0X9Mxcq",
    "outputId": "c2f24bd8-3a34-45d5-f8be-b691d2eb4911"
   },
   "outputs": [
    {
     "name": "stdout",
     "output_type": "stream",
     "text": [
      "InvoiceNo       0.000000\n",
      "StockCode       0.000000\n",
      "Description     0.268342\n",
      "Quantity        0.000000\n",
      "InvoiceDate     0.000000\n",
      "UnitPrice       0.000000\n",
      "CustomerID     36.582886\n",
      "Country         0.000000\n",
      "dtype: float64\n"
     ]
    }
   ],
   "source": [
    "nan_counts_per_column = df.isnull().sum()\n",
    "\n",
    "# Calculate the total number of rows\n",
    "total_rows = len(df)\n",
    "\n",
    "# Calculate the percentage of missing data in each column\n",
    "percentage_missing_per_column = (nan_counts_per_column / total_rows) * 100\n",
    "\n",
    "# Display the percentage of missing data in each column\n",
    "print(percentage_missing_per_column)"
   ]
  },
  {
   "cell_type": "code",
   "execution_count": 10,
   "metadata": {
    "colab": {
     "base_uri": "https://localhost:8080/"
    },
    "id": "cy7fNdrKMzI9",
    "outputId": "e0d0212a-15da-4fa8-ffe9-2b756c7e9085"
   },
   "outputs": [
    {
     "name": "stdout",
     "output_type": "stream",
     "text": [
      "<class 'pandas.core.frame.DataFrame'>\n",
      "RangeIndex: 59998 entries, 0 to 59997\n",
      "Data columns (total 3 columns):\n",
      " #   Column       Non-Null Count  Dtype \n",
      "---  ------       --------------  ----- \n",
      " 0   Country      59998 non-null  object\n",
      " 1   StockCode    59998 non-null  object\n",
      " 2   InvoiceDate  59998 non-null  object\n",
      "dtypes: object(3)\n",
      "memory usage: 1.4+ MB\n"
     ]
    }
   ],
   "source": [
    "si_cat = SimpleImputer(missing_values=np.nan, strategy='most_frequent') # Strategy = median [When Odd Number of Categories Exists]\n",
    "si_cat_fit = si_cat.fit_transform(df_cat)\n",
    "df_cat_mdi = pd.DataFrame(si_cat_fit, columns=df_cat.columns); df_cat_mdi # Missing Categorical Data Imputed Subset\n",
    "df_cat_mdi.info()"
   ]
  },
  {
   "cell_type": "code",
   "execution_count": 11,
   "metadata": {
    "colab": {
     "base_uri": "https://localhost:8080/"
    },
    "id": "doKZR-5SM1bX",
    "outputId": "f0ca25cc-19b6-40b7-9286-b1e502e0f0a6"
   },
   "outputs": [
    {
     "name": "stdout",
     "output_type": "stream",
     "text": [
      "<class 'pandas.core.frame.DataFrame'>\n",
      "RangeIndex: 59998 entries, 0 to 59997\n",
      "Data columns (total 2 columns):\n",
      " #   Column     Non-Null Count  Dtype  \n",
      "---  ------     --------------  -----  \n",
      " 0   Quantity   59998 non-null  float64\n",
      " 1   UnitPrice  59998 non-null  float64\n",
      "dtypes: float64(2)\n",
      "memory usage: 937.6 KB\n"
     ]
    }
   ],
   "source": [
    "si_noncat = SimpleImputer(missing_values=np.nan, strategy='mean') # Other Strategy : mean | median | most_frequent | constant\n",
    "si_noncat_fit = si_noncat.fit_transform(df_noncat)\n",
    "df_noncat_mdi_si = pd.DataFrame(si_noncat_fit, columns=df_noncat.columns); df_noncat_mdi_si # Missing Non-Categorical Data Imputed Subset using Simple Imputer\n",
    "df_noncat_mdi_si.info()"
   ]
  },
  {
   "cell_type": "code",
   "execution_count": 12,
   "metadata": {
    "id": "oeEZLN53M5g0"
   },
   "outputs": [],
   "source": [
    "# Dataset Used : df_cat_mdi\n",
    "df_cat_mdi_code = df_cat_mdi.copy()"
   ]
  },
  {
   "cell_type": "code",
   "execution_count": 13,
   "metadata": {
    "colab": {
     "base_uri": "https://localhost:8080/",
     "height": 419
    },
    "id": "1ziyPmPRM7cH",
    "outputId": "96d0df45-d0e9-43ed-ea5e-44443e4a8ce6"
   },
   "outputs": [
    {
     "data": {
      "text/html": [
       "<div>\n",
       "<style scoped>\n",
       "    .dataframe tbody tr th:only-of-type {\n",
       "        vertical-align: middle;\n",
       "    }\n",
       "\n",
       "    .dataframe tbody tr th {\n",
       "        vertical-align: top;\n",
       "    }\n",
       "\n",
       "    .dataframe thead th {\n",
       "        text-align: right;\n",
       "    }\n",
       "</style>\n",
       "<table border=\"1\" class=\"dataframe\">\n",
       "  <thead>\n",
       "    <tr style=\"text-align: right;\">\n",
       "      <th></th>\n",
       "      <th>Country</th>\n",
       "      <th>StockCode</th>\n",
       "      <th>InvoiceDate</th>\n",
       "      <th>Country_code</th>\n",
       "      <th>StockCode_code</th>\n",
       "      <th>InvoiceDate_code</th>\n",
       "    </tr>\n",
       "  </thead>\n",
       "  <tbody>\n",
       "    <tr>\n",
       "      <th>0</th>\n",
       "      <td>United Kingdom</td>\n",
       "      <td>85123A</td>\n",
       "      <td>12/1/2010 8:26</td>\n",
       "      <td>23</td>\n",
       "      <td>2538</td>\n",
       "      <td>767</td>\n",
       "    </tr>\n",
       "    <tr>\n",
       "      <th>1</th>\n",
       "      <td>United Kingdom</td>\n",
       "      <td>71053</td>\n",
       "      <td>12/1/2010 8:26</td>\n",
       "      <td>23</td>\n",
       "      <td>1995</td>\n",
       "      <td>767</td>\n",
       "    </tr>\n",
       "    <tr>\n",
       "      <th>2</th>\n",
       "      <td>United Kingdom</td>\n",
       "      <td>84406B</td>\n",
       "      <td>12/1/2010 8:26</td>\n",
       "      <td>23</td>\n",
       "      <td>2170</td>\n",
       "      <td>767</td>\n",
       "    </tr>\n",
       "    <tr>\n",
       "      <th>3</th>\n",
       "      <td>United Kingdom</td>\n",
       "      <td>84029G</td>\n",
       "      <td>12/1/2010 8:26</td>\n",
       "      <td>23</td>\n",
       "      <td>2128</td>\n",
       "      <td>767</td>\n",
       "    </tr>\n",
       "    <tr>\n",
       "      <th>4</th>\n",
       "      <td>United Kingdom</td>\n",
       "      <td>84029E</td>\n",
       "      <td>12/1/2010 8:26</td>\n",
       "      <td>23</td>\n",
       "      <td>2127</td>\n",
       "      <td>767</td>\n",
       "    </tr>\n",
       "    <tr>\n",
       "      <th>...</th>\n",
       "      <td>...</td>\n",
       "      <td>...</td>\n",
       "      <td>...</td>\n",
       "      <td>...</td>\n",
       "      <td>...</td>\n",
       "      <td>...</td>\n",
       "    </tr>\n",
       "    <tr>\n",
       "      <th>59993</th>\n",
       "      <td>United Kingdom</td>\n",
       "      <td>21027</td>\n",
       "      <td>1/17/2011 17:44</td>\n",
       "      <td>23</td>\n",
       "      <td>282</td>\n",
       "      <td>364</td>\n",
       "    </tr>\n",
       "    <tr>\n",
       "      <th>59994</th>\n",
       "      <td>United Kingdom</td>\n",
       "      <td>21033</td>\n",
       "      <td>1/17/2011 17:44</td>\n",
       "      <td>23</td>\n",
       "      <td>287</td>\n",
       "      <td>364</td>\n",
       "    </tr>\n",
       "    <tr>\n",
       "      <th>59995</th>\n",
       "      <td>United Kingdom</td>\n",
       "      <td>21041</td>\n",
       "      <td>1/17/2011 17:44</td>\n",
       "      <td>23</td>\n",
       "      <td>293</td>\n",
       "      <td>364</td>\n",
       "    </tr>\n",
       "    <tr>\n",
       "      <th>59996</th>\n",
       "      <td>United Kingdom</td>\n",
       "      <td>21043</td>\n",
       "      <td>1/17/2011 17:44</td>\n",
       "      <td>23</td>\n",
       "      <td>295</td>\n",
       "      <td>364</td>\n",
       "    </tr>\n",
       "    <tr>\n",
       "      <th>59997</th>\n",
       "      <td>United Kingdom</td>\n",
       "      <td>21051</td>\n",
       "      <td>1/17/2011 17:44</td>\n",
       "      <td>23</td>\n",
       "      <td>296</td>\n",
       "      <td>364</td>\n",
       "    </tr>\n",
       "  </tbody>\n",
       "</table>\n",
       "<p>59998 rows × 6 columns</p>\n",
       "</div>"
      ],
      "text/plain": [
       "              Country StockCode      InvoiceDate  Country_code  \\\n",
       "0      United Kingdom    85123A   12/1/2010 8:26            23   \n",
       "1      United Kingdom     71053   12/1/2010 8:26            23   \n",
       "2      United Kingdom    84406B   12/1/2010 8:26            23   \n",
       "3      United Kingdom    84029G   12/1/2010 8:26            23   \n",
       "4      United Kingdom    84029E   12/1/2010 8:26            23   \n",
       "...               ...       ...              ...           ...   \n",
       "59993  United Kingdom     21027  1/17/2011 17:44            23   \n",
       "59994  United Kingdom     21033  1/17/2011 17:44            23   \n",
       "59995  United Kingdom     21041  1/17/2011 17:44            23   \n",
       "59996  United Kingdom     21043  1/17/2011 17:44            23   \n",
       "59997  United Kingdom     21051  1/17/2011 17:44            23   \n",
       "\n",
       "       StockCode_code  InvoiceDate_code  \n",
       "0                2538               767  \n",
       "1                1995               767  \n",
       "2                2170               767  \n",
       "3                2128               767  \n",
       "4                2127               767  \n",
       "...               ...               ...  \n",
       "59993             282               364  \n",
       "59994             287               364  \n",
       "59995             293               364  \n",
       "59996             295               364  \n",
       "59997             296               364  \n",
       "\n",
       "[59998 rows x 6 columns]"
      ]
     },
     "execution_count": 13,
     "metadata": {},
     "output_type": "execute_result"
    }
   ],
   "source": [
    "# Using Pandas (Inferior)\n",
    "df_cat_mdi_code_pd = df_cat_mdi_code.astype('category')\n",
    "df_cat_mdi_code_pd['Country_code'] = df_cat_mdi_code_pd['Country'].cat.codes\n",
    "df_cat_mdi_code_pd['StockCode_code'] = df_cat_mdi_code_pd['StockCode'].cat.codes\n",
    "df_cat_mdi_code_pd['InvoiceDate_code'] = df_cat_mdi_code_pd['InvoiceDate'].cat.codes\n",
    "df_cat_mdi_code_pd # (Missing Data Treated) Numeric Coded Categorical Dataset using Pandas"
   ]
  },
  {
   "cell_type": "code",
   "execution_count": 14,
   "metadata": {
    "colab": {
     "base_uri": "https://localhost:8080/"
    },
    "id": "Pua7oumSM9WB",
    "outputId": "0405f1b2-18d5-4077-fa53-f278a9374ffc"
   },
   "outputs": [
    {
     "name": "stdout",
     "output_type": "stream",
     "text": [
      "       Country_code  StockCode_code  InvoiceDate_code\n",
      "0                23            2538               767\n",
      "1                23            1995               767\n",
      "2                23            2170               767\n",
      "3                23            2128               767\n",
      "4                23            2127               767\n",
      "...             ...             ...               ...\n",
      "59993            23             282               364\n",
      "59994            23             287               364\n",
      "59995            23             293               364\n",
      "59996            23             295               364\n",
      "59997            23             296               364\n",
      "\n",
      "[59998 rows x 3 columns]\n"
     ]
    }
   ],
   "source": [
    "# Using Pandas (Inferior)\n",
    "df_cat_mdi_code_pd = df_cat_mdi_code.astype('category')\n",
    "df_cat_mdi_code_pd['Country_code'] = df_cat_mdi_code_pd['Country'].cat.codes\n",
    "df_cat_mdi_code_pd['StockCode_code'] = df_cat_mdi_code_pd['StockCode'].cat.codes\n",
    "df_cat_mdi_code_pd['InvoiceDate_code'] = df_cat_mdi_code_pd['InvoiceDate'].cat.codes\n",
    "\n",
    "# Keep only encoded columns\n",
    "encoded_columns = ['Country_code', 'StockCode_code', 'InvoiceDate_code']\n",
    "df_encoded_only = df_cat_mdi_code_pd[encoded_columns]\n",
    "\n",
    "print(df_encoded_only)\n"
   ]
  },
  {
   "cell_type": "code",
   "execution_count": 15,
   "metadata": {
    "colab": {
     "base_uri": "https://localhost:8080/",
     "height": 419
    },
    "id": "XpNIveV3M_KL",
    "outputId": "eaeaf963-b166-49ee-ebb4-ea034c2108f0"
   },
   "outputs": [
    {
     "data": {
      "text/html": [
       "<div>\n",
       "<style scoped>\n",
       "    .dataframe tbody tr th:only-of-type {\n",
       "        vertical-align: middle;\n",
       "    }\n",
       "\n",
       "    .dataframe tbody tr th {\n",
       "        vertical-align: top;\n",
       "    }\n",
       "\n",
       "    .dataframe thead th {\n",
       "        text-align: right;\n",
       "    }\n",
       "</style>\n",
       "<table border=\"1\" class=\"dataframe\">\n",
       "  <thead>\n",
       "    <tr style=\"text-align: right;\">\n",
       "      <th></th>\n",
       "      <th>Quantity</th>\n",
       "      <th>UnitPrice</th>\n",
       "      <th>Quantity_std</th>\n",
       "      <th>UnitPrice_std</th>\n",
       "    </tr>\n",
       "  </thead>\n",
       "  <tbody>\n",
       "    <tr>\n",
       "      <th>0</th>\n",
       "      <td>6.0</td>\n",
       "      <td>2.55</td>\n",
       "      <td>-0.044108</td>\n",
       "      <td>-0.022610</td>\n",
       "    </tr>\n",
       "    <tr>\n",
       "      <th>1</th>\n",
       "      <td>6.0</td>\n",
       "      <td>3.39</td>\n",
       "      <td>-0.044108</td>\n",
       "      <td>-0.017088</td>\n",
       "    </tr>\n",
       "    <tr>\n",
       "      <th>2</th>\n",
       "      <td>8.0</td>\n",
       "      <td>2.75</td>\n",
       "      <td>-0.008863</td>\n",
       "      <td>-0.021295</td>\n",
       "    </tr>\n",
       "    <tr>\n",
       "      <th>3</th>\n",
       "      <td>6.0</td>\n",
       "      <td>3.39</td>\n",
       "      <td>-0.044108</td>\n",
       "      <td>-0.017088</td>\n",
       "    </tr>\n",
       "    <tr>\n",
       "      <th>4</th>\n",
       "      <td>6.0</td>\n",
       "      <td>3.39</td>\n",
       "      <td>-0.044108</td>\n",
       "      <td>-0.017088</td>\n",
       "    </tr>\n",
       "    <tr>\n",
       "      <th>...</th>\n",
       "      <td>...</td>\n",
       "      <td>...</td>\n",
       "      <td>...</td>\n",
       "      <td>...</td>\n",
       "    </tr>\n",
       "    <tr>\n",
       "      <th>59993</th>\n",
       "      <td>1.0</td>\n",
       "      <td>0.83</td>\n",
       "      <td>-0.132219</td>\n",
       "      <td>-0.033918</td>\n",
       "    </tr>\n",
       "    <tr>\n",
       "      <th>59994</th>\n",
       "      <td>17.0</td>\n",
       "      <td>2.46</td>\n",
       "      <td>0.149737</td>\n",
       "      <td>-0.023202</td>\n",
       "    </tr>\n",
       "    <tr>\n",
       "      <th>59995</th>\n",
       "      <td>1.0</td>\n",
       "      <td>5.79</td>\n",
       "      <td>-0.132219</td>\n",
       "      <td>-0.001310</td>\n",
       "    </tr>\n",
       "    <tr>\n",
       "      <th>59996</th>\n",
       "      <td>2.0</td>\n",
       "      <td>4.13</td>\n",
       "      <td>-0.114597</td>\n",
       "      <td>-0.012223</td>\n",
       "    </tr>\n",
       "    <tr>\n",
       "      <th>59997</th>\n",
       "      <td>3.0</td>\n",
       "      <td>1.63</td>\n",
       "      <td>-0.096975</td>\n",
       "      <td>-0.028658</td>\n",
       "    </tr>\n",
       "  </tbody>\n",
       "</table>\n",
       "<p>59998 rows × 4 columns</p>\n",
       "</div>"
      ],
      "text/plain": [
       "       Quantity  UnitPrice  Quantity_std  UnitPrice_std\n",
       "0           6.0       2.55     -0.044108      -0.022610\n",
       "1           6.0       3.39     -0.044108      -0.017088\n",
       "2           8.0       2.75     -0.008863      -0.021295\n",
       "3           6.0       3.39     -0.044108      -0.017088\n",
       "4           6.0       3.39     -0.044108      -0.017088\n",
       "...         ...        ...           ...            ...\n",
       "59993       1.0       0.83     -0.132219      -0.033918\n",
       "59994      17.0       2.46      0.149737      -0.023202\n",
       "59995       1.0       5.79     -0.132219      -0.001310\n",
       "59996       2.0       4.13     -0.114597      -0.012223\n",
       "59997       3.0       1.63     -0.096975      -0.028658\n",
       "\n",
       "[59998 rows x 4 columns]"
      ]
     },
     "execution_count": 15,
     "metadata": {},
     "output_type": "execute_result"
    }
   ],
   "source": [
    "# 3.1. Standardization\n",
    "ss_quantity = StandardScaler()  # StandardScaler for Quantity\n",
    "ss_unit_price = StandardScaler()  # StandardScaler for UnitPrice\n",
    "\n",
    "ss_fit_quantity = ss_quantity.fit_transform(df_noncat_mdi_si[['Quantity']])  # Fitting and transforming Quantity\n",
    "ss_fit_unit_price = ss_unit_price.fit_transform(df_noncat_mdi_si[['UnitPrice']])  # Fitting and transforming UnitPrice\n",
    "\n",
    "# Creating DataFrame for standardized data\n",
    "df_quantity_std = pd.DataFrame(ss_fit_quantity, columns=['Quantity_std'])\n",
    "df_unit_price_std = pd.DataFrame(ss_fit_unit_price, columns=['UnitPrice_std'])\n",
    "\n",
    "# Joining standardized data with the original DataFrame\n",
    "df_noncat_mdt_std = df_noncat_mdi_si.join([df_quantity_std, df_unit_price_std])\n",
    "df_noncat_mdt_std"
   ]
  },
  {
   "cell_type": "code",
   "execution_count": 16,
   "metadata": {
    "colab": {
     "base_uri": "https://localhost:8080/"
    },
    "id": "XH8FwykHNCBr",
    "outputId": "0ef84d03-1aaf-467e-e7ef-7e7df7b1055f"
   },
   "outputs": [
    {
     "name": "stdout",
     "output_type": "stream",
     "text": [
      "       Quantity_std  UnitPrice_std\n",
      "0         -0.044108      -0.022610\n",
      "1         -0.044108      -0.017088\n",
      "2         -0.008863      -0.021295\n",
      "3         -0.044108      -0.017088\n",
      "4         -0.044108      -0.017088\n",
      "...             ...            ...\n",
      "59993     -0.132219      -0.033918\n",
      "59994      0.149737      -0.023202\n",
      "59995     -0.132219      -0.001310\n",
      "59996     -0.114597      -0.012223\n",
      "59997     -0.096975      -0.028658\n",
      "\n",
      "[59998 rows x 2 columns]\n"
     ]
    }
   ],
   "source": [
    "# 3.1. Standardization\n",
    "ss_quantity = StandardScaler()  # StandardScaler for Quantity\n",
    "ss_unit_price = StandardScaler()  # StandardScaler for UnitPrice\n",
    "\n",
    "ss_fit_quantity = ss_quantity.fit_transform(df_noncat_mdi_si[['Quantity']])  # Fitting and transforming Quantity\n",
    "ss_fit_unit_price = ss_unit_price.fit_transform(df_noncat_mdi_si[['UnitPrice']])  # Fitting and transforming UnitPrice\n",
    "\n",
    "# Creating DataFrame for standardized data\n",
    "df_quantity_std = pd.DataFrame(ss_fit_quantity, columns=['Quantity_std'])\n",
    "df_unit_price_std = pd.DataFrame(ss_fit_unit_price, columns=['UnitPrice_std'])\n",
    "\n",
    "# Joining standardized data with the original DataFrame\n",
    "df_noncat_mdt_std = pd.concat([df_quantity_std, df_unit_price_std], axis=1)  # Concatenating standardized columns\n",
    "\n",
    "# Dropping original columns from df_noncat_mdi_si\n",
    "df_noncat_mdi_si.drop(['Quantity', 'UnitPrice'], axis=1, inplace=True)\n",
    "\n",
    "# Checking the resulting DataFrame\n",
    "print(df_noncat_mdt_std)\n"
   ]
  },
  {
   "cell_type": "code",
   "execution_count": 17,
   "metadata": {
    "colab": {
     "base_uri": "https://localhost:8080/",
     "height": 624
    },
    "id": "rjSkUrkmNEIG",
    "outputId": "ccc15db0-4435-4b53-9cbf-fdd75d5269d7"
   },
   "outputs": [
    {
     "data": {
      "image/png": "[encoded data removed]",
      "text/plain": [
       "<Figure size 1000x600 with 1 Axes>"
      ]
     },
     "metadata": {},
     "output_type": "display_data"
    }
   ],
   "source": [
    "import matplotlib.pyplot as plt\n",
    "\n",
    "# Creating box plots for standardized columns\n",
    "df_noncat_mdt_std.boxplot(figsize=(10, 6))\n",
    "plt.title('Box Plot of Standardized Columns')\n",
    "plt.ylabel('Standardized Values')\n",
    "plt.xlabel('Columns')\n",
    "plt.xticks(rotation=45)  # Rotate x-axis labels for better visibility\n",
    "plt.grid(True)\n",
    "plt.show()\n"
   ]
  },
  {
   "cell_type": "code",
   "execution_count": 18,
   "metadata": {
    "colab": {
     "base_uri": "https://localhost:8080/",
     "height": 419
    },
    "id": "lpmp34ufNG_D",
    "outputId": "a8d399d1-78fd-46a9-c3de-4511bcde1357"
   },
   "outputs": [
    {
     "data": {
      "text/html": [
       "<div>\n",
       "<style scoped>\n",
       "    .dataframe tbody tr th:only-of-type {\n",
       "        vertical-align: middle;\n",
       "    }\n",
       "\n",
       "    .dataframe tbody tr th {\n",
       "        vertical-align: top;\n",
       "    }\n",
       "\n",
       "    .dataframe thead th {\n",
       "        text-align: right;\n",
       "    }\n",
       "</style>\n",
       "<table border=\"1\" class=\"dataframe\">\n",
       "  <thead>\n",
       "    <tr style=\"text-align: right;\">\n",
       "      <th></th>\n",
       "      <th>Quantity_std</th>\n",
       "      <th>UnitPrice_std</th>\n",
       "      <th>Country_code</th>\n",
       "      <th>StockCode_code</th>\n",
       "      <th>InvoiceDate_code</th>\n",
       "    </tr>\n",
       "  </thead>\n",
       "  <tbody>\n",
       "    <tr>\n",
       "      <th>0</th>\n",
       "      <td>-0.044108</td>\n",
       "      <td>-0.022610</td>\n",
       "      <td>23</td>\n",
       "      <td>2538</td>\n",
       "      <td>767</td>\n",
       "    </tr>\n",
       "    <tr>\n",
       "      <th>1</th>\n",
       "      <td>-0.044108</td>\n",
       "      <td>-0.017088</td>\n",
       "      <td>23</td>\n",
       "      <td>1995</td>\n",
       "      <td>767</td>\n",
       "    </tr>\n",
       "    <tr>\n",
       "      <th>2</th>\n",
       "      <td>-0.008863</td>\n",
       "      <td>-0.021295</td>\n",
       "      <td>23</td>\n",
       "      <td>2170</td>\n",
       "      <td>767</td>\n",
       "    </tr>\n",
       "    <tr>\n",
       "      <th>3</th>\n",
       "      <td>-0.044108</td>\n",
       "      <td>-0.017088</td>\n",
       "      <td>23</td>\n",
       "      <td>2128</td>\n",
       "      <td>767</td>\n",
       "    </tr>\n",
       "    <tr>\n",
       "      <th>4</th>\n",
       "      <td>-0.044108</td>\n",
       "      <td>-0.017088</td>\n",
       "      <td>23</td>\n",
       "      <td>2127</td>\n",
       "      <td>767</td>\n",
       "    </tr>\n",
       "    <tr>\n",
       "      <th>...</th>\n",
       "      <td>...</td>\n",
       "      <td>...</td>\n",
       "      <td>...</td>\n",
       "      <td>...</td>\n",
       "      <td>...</td>\n",
       "    </tr>\n",
       "    <tr>\n",
       "      <th>59993</th>\n",
       "      <td>-0.132219</td>\n",
       "      <td>-0.033918</td>\n",
       "      <td>23</td>\n",
       "      <td>282</td>\n",
       "      <td>364</td>\n",
       "    </tr>\n",
       "    <tr>\n",
       "      <th>59994</th>\n",
       "      <td>0.149737</td>\n",
       "      <td>-0.023202</td>\n",
       "      <td>23</td>\n",
       "      <td>287</td>\n",
       "      <td>364</td>\n",
       "    </tr>\n",
       "    <tr>\n",
       "      <th>59995</th>\n",
       "      <td>-0.132219</td>\n",
       "      <td>-0.001310</td>\n",
       "      <td>23</td>\n",
       "      <td>293</td>\n",
       "      <td>364</td>\n",
       "    </tr>\n",
       "    <tr>\n",
       "      <th>59996</th>\n",
       "      <td>-0.114597</td>\n",
       "      <td>-0.012223</td>\n",
       "      <td>23</td>\n",
       "      <td>295</td>\n",
       "      <td>364</td>\n",
       "    </tr>\n",
       "    <tr>\n",
       "      <th>59997</th>\n",
       "      <td>-0.096975</td>\n",
       "      <td>-0.028658</td>\n",
       "      <td>23</td>\n",
       "      <td>296</td>\n",
       "      <td>364</td>\n",
       "    </tr>\n",
       "  </tbody>\n",
       "</table>\n",
       "<p>59998 rows × 5 columns</p>\n",
       "</div>"
      ],
      "text/plain": [
       "       Quantity_std  UnitPrice_std  Country_code  StockCode_code  \\\n",
       "0         -0.044108      -0.022610            23            2538   \n",
       "1         -0.044108      -0.017088            23            1995   \n",
       "2         -0.008863      -0.021295            23            2170   \n",
       "3         -0.044108      -0.017088            23            2128   \n",
       "4         -0.044108      -0.017088            23            2127   \n",
       "...             ...            ...           ...             ...   \n",
       "59993     -0.132219      -0.033918            23             282   \n",
       "59994      0.149737      -0.023202            23             287   \n",
       "59995     -0.132219      -0.001310            23             293   \n",
       "59996     -0.114597      -0.012223            23             295   \n",
       "59997     -0.096975      -0.028658            23             296   \n",
       "\n",
       "       InvoiceDate_code  \n",
       "0                   767  \n",
       "1                   767  \n",
       "2                   767  \n",
       "3                   767  \n",
       "4                   767  \n",
       "...                 ...  \n",
       "59993               364  \n",
       "59994               364  \n",
       "59995               364  \n",
       "59996               364  \n",
       "59997               364  \n",
       "\n",
       "[59998 rows x 5 columns]"
      ]
     },
     "execution_count": 18,
     "metadata": {},
     "output_type": "execute_result"
    }
   ],
   "source": [
    "# Merge df_noncat_mdt_std_no_outliers and df_encoded_only based on common columns\n",
    "merged_df = pd.merge(df_noncat_mdt_std, df_encoded_only, left_index=True, right_index=True)\n",
    "\n",
    "# Display the merged DataFrame\n",
    "merged_df"
   ]
  },
  {
   "cell_type": "code",
   "execution_count": 19,
   "metadata": {
    "id": "iuPnQ3m7pPuy"
   },
   "outputs": [],
   "source": [
    "#### Project 2 starting #######"
   ]
  },
  {
   "cell_type": "code",
   "execution_count": 20,
   "metadata": {
    "colab": {
     "base_uri": "https://localhost:8080/"
    },
    "id": "dE0JslbVms10",
    "outputId": "14a1f033-f071-421b-a5d3-5b9818a8b06c"
   },
   "outputs": [
    {
     "data": {
      "text/plain": [
       "Quantity_std        0\n",
       "UnitPrice_std       0\n",
       "Country_code        0\n",
       "StockCode_code      0\n",
       "InvoiceDate_code    0\n",
       "dtype: int64"
      ]
     },
     "execution_count": 20,
     "metadata": {},
     "output_type": "execute_result"
    }
   ],
   "source": [
    "merged_df.isnull().sum()"
   ]
  },
  {
   "cell_type": "code",
   "execution_count": 21,
   "metadata": {
    "id": "pgvnGQwgms4J"
   },
   "outputs": [],
   "source": [
    "df_kmeans=merged_df.copy()\n"
   ]
  },
  {
   "cell_type": "code",
   "execution_count": 22,
   "metadata": {
    "id": "JHgQf_8Bms7A"
   },
   "outputs": [],
   "source": [
    "from sklearn.cluster import KMeans\n",
    "from sklearn.cluster import KMeans"
   ]
  },
  {
   "cell_type": "code",
   "execution_count": 23,
   "metadata": {
    "id": "KQ-WaU2ums9o"
   },
   "outputs": [],
   "source": [
    "model = KMeans(n_clusters=3)"
   ]
  },
  {
   "cell_type": "code",
   "execution_count": 24,
   "metadata": {
    "colab": {
     "base_uri": "https://localhost:8080/"
    },
    "id": "0O6rKioGmtAe",
    "outputId": "99678ff5-95c4-4e7e-8723-566e955b5e4d"
   },
   "outputs": [
    {
     "data": {
      "text/plain": [
       "array([2, 2, 2, ..., 0, 0, 0], dtype=int32)"
      ]
     },
     "execution_count": 24,
     "metadata": {},
     "output_type": "execute_result"
    }
   ],
   "source": [
    "cluster_labels=model.fit_predict(df_kmeans)\n",
    "cluster_labels"
   ]
  },
  {
   "cell_type": "code",
   "execution_count": 25,
   "metadata": {
    "colab": {
     "base_uri": "https://localhost:8080/",
     "height": 419
    },
    "id": "i19dZGixmtDV",
    "outputId": "ee0e55fa-c1a6-41c2-f557-bf1e28c09cdf"
   },
   "outputs": [
    {
     "data": {
      "text/html": [
       "<div>\n",
       "<style scoped>\n",
       "    .dataframe tbody tr th:only-of-type {\n",
       "        vertical-align: middle;\n",
       "    }\n",
       "\n",
       "    .dataframe tbody tr th {\n",
       "        vertical-align: top;\n",
       "    }\n",
       "\n",
       "    .dataframe thead th {\n",
       "        text-align: right;\n",
       "    }\n",
       "</style>\n",
       "<table border=\"1\" class=\"dataframe\">\n",
       "  <thead>\n",
       "    <tr style=\"text-align: right;\">\n",
       "      <th></th>\n",
       "      <th>observation_id</th>\n",
       "      <th>cluster</th>\n",
       "    </tr>\n",
       "  </thead>\n",
       "  <tbody>\n",
       "    <tr>\n",
       "      <th>0</th>\n",
       "      <td>1</td>\n",
       "      <td>0</td>\n",
       "    </tr>\n",
       "    <tr>\n",
       "      <th>1</th>\n",
       "      <td>2</td>\n",
       "      <td>0</td>\n",
       "    </tr>\n",
       "    <tr>\n",
       "      <th>2</th>\n",
       "      <td>3</td>\n",
       "      <td>0</td>\n",
       "    </tr>\n",
       "    <tr>\n",
       "      <th>3</th>\n",
       "      <td>4</td>\n",
       "      <td>0</td>\n",
       "    </tr>\n",
       "    <tr>\n",
       "      <th>4</th>\n",
       "      <td>5</td>\n",
       "      <td>0</td>\n",
       "    </tr>\n",
       "    <tr>\n",
       "      <th>...</th>\n",
       "      <td>...</td>\n",
       "      <td>...</td>\n",
       "    </tr>\n",
       "    <tr>\n",
       "      <th>59993</th>\n",
       "      <td>59994</td>\n",
       "      <td>2</td>\n",
       "    </tr>\n",
       "    <tr>\n",
       "      <th>59994</th>\n",
       "      <td>59995</td>\n",
       "      <td>2</td>\n",
       "    </tr>\n",
       "    <tr>\n",
       "      <th>59995</th>\n",
       "      <td>59996</td>\n",
       "      <td>2</td>\n",
       "    </tr>\n",
       "    <tr>\n",
       "      <th>59996</th>\n",
       "      <td>59997</td>\n",
       "      <td>2</td>\n",
       "    </tr>\n",
       "    <tr>\n",
       "      <th>59997</th>\n",
       "      <td>59998</td>\n",
       "      <td>2</td>\n",
       "    </tr>\n",
       "  </tbody>\n",
       "</table>\n",
       "<p>59998 rows × 2 columns</p>\n",
       "</div>"
      ],
      "text/plain": [
       "       observation_id  cluster\n",
       "0                   1        0\n",
       "1                   2        0\n",
       "2                   3        0\n",
       "3                   4        0\n",
       "4                   5        0\n",
       "...               ...      ...\n",
       "59993           59994        2\n",
       "59994           59995        2\n",
       "59995           59996        2\n",
       "59996           59997        2\n",
       "59997           59998        2\n",
       "\n",
       "[59998 rows x 2 columns]"
      ]
     },
     "execution_count": 25,
     "metadata": {},
     "output_type": "execute_result"
    }
   ],
   "source": [
    "kmeans_model = KMeans(n_clusters=3, n_init=10)\n",
    "kmeans_model.fit(df_kmeans)\n",
    "\n",
    "# Get cluster labels\n",
    "cluster_labels = kmeans_model.labels_\n",
    "\n",
    "# Create DataFrame with observation index and cluster labels\n",
    "cluster_df = pd.DataFrame({'observation_id': range(1, len(cluster_labels) + 1), 'cluster': cluster_labels})\n",
    "\n",
    "# Print the DataFrame\n",
    "cluster_df"
   ]
  },
  {
   "cell_type": "code",
   "execution_count": 26,
   "metadata": {
    "colab": {
     "base_uri": "https://localhost:8080/",
     "height": 419
    },
    "id": "-h8nXgl6mtF7",
    "outputId": "14f6cc28-d9e4-4d3d-a806-edb82755d7e6",
    "scrolled": false
   },
   "outputs": [
    {
     "data": {
      "text/html": [
       "<div>\n",
       "<style scoped>\n",
       "    .dataframe tbody tr th:only-of-type {\n",
       "        vertical-align: middle;\n",
       "    }\n",
       "\n",
       "    .dataframe tbody tr th {\n",
       "        vertical-align: top;\n",
       "    }\n",
       "\n",
       "    .dataframe thead th {\n",
       "        text-align: right;\n",
       "    }\n",
       "</style>\n",
       "<table border=\"1\" class=\"dataframe\">\n",
       "  <thead>\n",
       "    <tr style=\"text-align: right;\">\n",
       "      <th></th>\n",
       "      <th>Quantity_std</th>\n",
       "      <th>UnitPrice_std</th>\n",
       "      <th>Country_code</th>\n",
       "      <th>StockCode_code</th>\n",
       "      <th>InvoiceDate_code</th>\n",
       "      <th>observation_id</th>\n",
       "      <th>cluster</th>\n",
       "    </tr>\n",
       "  </thead>\n",
       "  <tbody>\n",
       "    <tr>\n",
       "      <th>0</th>\n",
       "      <td>-0.044108</td>\n",
       "      <td>-0.017088</td>\n",
       "      <td>23</td>\n",
       "      <td>1995</td>\n",
       "      <td>767</td>\n",
       "      <td>1</td>\n",
       "      <td>0</td>\n",
       "    </tr>\n",
       "    <tr>\n",
       "      <th>1</th>\n",
       "      <td>-0.008863</td>\n",
       "      <td>-0.021295</td>\n",
       "      <td>23</td>\n",
       "      <td>2170</td>\n",
       "      <td>767</td>\n",
       "      <td>2</td>\n",
       "      <td>0</td>\n",
       "    </tr>\n",
       "    <tr>\n",
       "      <th>2</th>\n",
       "      <td>-0.044108</td>\n",
       "      <td>-0.017088</td>\n",
       "      <td>23</td>\n",
       "      <td>2128</td>\n",
       "      <td>767</td>\n",
       "      <td>3</td>\n",
       "      <td>0</td>\n",
       "    </tr>\n",
       "    <tr>\n",
       "      <th>3</th>\n",
       "      <td>-0.044108</td>\n",
       "      <td>-0.017088</td>\n",
       "      <td>23</td>\n",
       "      <td>2127</td>\n",
       "      <td>767</td>\n",
       "      <td>4</td>\n",
       "      <td>0</td>\n",
       "    </tr>\n",
       "    <tr>\n",
       "      <th>4</th>\n",
       "      <td>-0.114597</td>\n",
       "      <td>0.010919</td>\n",
       "      <td>23</td>\n",
       "      <td>1566</td>\n",
       "      <td>767</td>\n",
       "      <td>5</td>\n",
       "      <td>0</td>\n",
       "    </tr>\n",
       "    <tr>\n",
       "      <th>...</th>\n",
       "      <td>...</td>\n",
       "      <td>...</td>\n",
       "      <td>...</td>\n",
       "      <td>...</td>\n",
       "      <td>...</td>\n",
       "      <td>...</td>\n",
       "      <td>...</td>\n",
       "    </tr>\n",
       "    <tr>\n",
       "      <th>59992</th>\n",
       "      <td>-0.132219</td>\n",
       "      <td>-0.033918</td>\n",
       "      <td>23</td>\n",
       "      <td>282</td>\n",
       "      <td>364</td>\n",
       "      <td>59993</td>\n",
       "      <td>2</td>\n",
       "    </tr>\n",
       "    <tr>\n",
       "      <th>59993</th>\n",
       "      <td>0.149737</td>\n",
       "      <td>-0.023202</td>\n",
       "      <td>23</td>\n",
       "      <td>287</td>\n",
       "      <td>364</td>\n",
       "      <td>59994</td>\n",
       "      <td>2</td>\n",
       "    </tr>\n",
       "    <tr>\n",
       "      <th>59994</th>\n",
       "      <td>-0.132219</td>\n",
       "      <td>-0.001310</td>\n",
       "      <td>23</td>\n",
       "      <td>293</td>\n",
       "      <td>364</td>\n",
       "      <td>59995</td>\n",
       "      <td>2</td>\n",
       "    </tr>\n",
       "    <tr>\n",
       "      <th>59995</th>\n",
       "      <td>-0.114597</td>\n",
       "      <td>-0.012223</td>\n",
       "      <td>23</td>\n",
       "      <td>295</td>\n",
       "      <td>364</td>\n",
       "      <td>59996</td>\n",
       "      <td>2</td>\n",
       "    </tr>\n",
       "    <tr>\n",
       "      <th>59996</th>\n",
       "      <td>-0.096975</td>\n",
       "      <td>-0.028658</td>\n",
       "      <td>23</td>\n",
       "      <td>296</td>\n",
       "      <td>364</td>\n",
       "      <td>59997</td>\n",
       "      <td>2</td>\n",
       "    </tr>\n",
       "  </tbody>\n",
       "</table>\n",
       "<p>59997 rows × 7 columns</p>\n",
       "</div>"
      ],
      "text/plain": [
       "       Quantity_std  UnitPrice_std  Country_code  StockCode_code  \\\n",
       "0         -0.044108      -0.017088            23            1995   \n",
       "1         -0.008863      -0.021295            23            2170   \n",
       "2         -0.044108      -0.017088            23            2128   \n",
       "3         -0.044108      -0.017088            23            2127   \n",
       "4         -0.114597       0.010919            23            1566   \n",
       "...             ...            ...           ...             ...   \n",
       "59992     -0.132219      -0.033918            23             282   \n",
       "59993      0.149737      -0.023202            23             287   \n",
       "59994     -0.132219      -0.001310            23             293   \n",
       "59995     -0.114597      -0.012223            23             295   \n",
       "59996     -0.096975      -0.028658            23             296   \n",
       "\n",
       "       InvoiceDate_code  observation_id  cluster  \n",
       "0                   767               1        0  \n",
       "1                   767               2        0  \n",
       "2                   767               3        0  \n",
       "3                   767               4        0  \n",
       "4                   767               5        0  \n",
       "...                 ...             ...      ...  \n",
       "59992               364           59993        2  \n",
       "59993               364           59994        2  \n",
       "59994               364           59995        2  \n",
       "59995               364           59996        2  \n",
       "59996               364           59997        2  \n",
       "\n",
       "[59997 rows x 7 columns]"
      ]
     },
     "execution_count": 26,
     "metadata": {},
     "output_type": "execute_result"
    }
   ],
   "source": [
    "merged_df = pd.merge(merged_df, cluster_df, left_index=True, right_on='observation_id', how='inner')\n",
    "\n",
    "# Print the merged DataFrame\n",
    "merged_df\n",
    "merged_df.copy()"
   ]
  },
  {
   "cell_type": "code",
   "execution_count": 53,
   "metadata": {},
   "outputs": [
    {
     "name": "stdout",
     "output_type": "stream",
     "text": [
      "Cluster 0 characteristics (Low Usage):\n",
      "       Quantity_std  UnitPrice_std  Country_code  StockCode_code  \\\n",
      "count  17284.000000   17284.000000  17284.000000    17284.000000   \n",
      "mean       0.007500       0.028472     22.380178     1743.380120   \n",
      "std        0.727453       1.708612      2.940054      725.321458   \n",
      "min      -16.697149      -0.039375      0.000000        0.000000   \n",
      "25%       -0.132219      -0.031157     23.000000     1296.750000   \n",
      "50%       -0.114597      -0.022676     23.000000     1786.000000   \n",
      "75%       -0.008863      -0.011434     23.000000     2346.000000   \n",
      "max       50.602283     110.987016     23.000000     2949.000000   \n",
      "\n",
      "       InvoiceDate_code  observation_id  cluster  \n",
      "count      17284.000000    17284.000000  17284.0  \n",
      "mean        1006.979981    32186.459789      0.0  \n",
      "std          613.805046    16959.906278      0.0  \n",
      "min            3.000000        1.000000      0.0  \n",
      "25%          514.000000    22949.750000      0.0  \n",
      "50%          927.000000    33054.500000      0.0  \n",
      "75%         1417.000000    46237.250000      0.0  \n",
      "max         2433.000000    59954.000000      0.0  \n",
      "\n",
      "Cluster 1 characteristics (Medium Usage):\n",
      "       Quantity_std  UnitPrice_std  Country_code  StockCode_code  \\\n",
      "count  22605.000000   22605.000000  22605.000000    22605.000000   \n",
      "mean      -0.023234      -0.006986     22.213979     1179.064587   \n",
      "std        1.263352       0.644719      3.230758      618.191734   \n",
      "min     -165.094246      -0.039375      0.000000        0.000000   \n",
      "25%       -0.132219      -0.029842     23.000000      742.000000   \n",
      "50%       -0.114597      -0.022610     23.000000     1207.000000   \n",
      "75%       -0.044108      -0.006832     23.000000     1567.000000   \n",
      "max       31.993171      88.984975     23.000000     2943.000000   \n",
      "\n",
      "       InvoiceDate_code  observation_id  cluster  \n",
      "count      22605.000000    22605.000000  22605.0  \n",
      "mean        1903.456271    20087.801194      1.0  \n",
      "std          313.708835    12171.172170      0.0  \n",
      "min          365.000000     3109.000000      1.0  \n",
      "25%         1682.000000    10333.000000      1.0  \n",
      "50%         1941.000000    16965.000000      1.0  \n",
      "75%         2141.000000    34322.000000      1.0  \n",
      "max         2434.000000    42481.000000      1.0  \n",
      "\n",
      "Cluster 2 characteristics (High Usage):\n",
      "       Quantity_std  UnitPrice_std  Country_code  StockCode_code  \\\n",
      "count  20108.000000   20108.000000  20108.000000    20108.000000   \n",
      "mean       0.019675      -0.016619     22.075244     1080.491794   \n",
      "std        0.856601       0.079313      3.503042      626.960776   \n",
      "min      -45.967732      -0.039375      0.000000        0.000000   \n",
      "25%       -0.132219      -0.031157     23.000000      596.000000   \n",
      "50%       -0.096975      -0.025569     23.000000     1053.000000   \n",
      "75%        0.026381      -0.012223     23.000000     1459.000000   \n",
      "max       54.725893       7.363253     23.000000     2946.000000   \n",
      "\n",
      "       InvoiceDate_code  observation_id  cluster  \n",
      "count      20108.000000    20108.000000  20108.0  \n",
      "mean         570.356177    39260.716431      2.0  \n",
      "std          345.453208    16762.154074      0.0  \n",
      "min            0.000000        7.000000      2.0  \n",
      "25%          262.000000    27602.750000      2.0  \n",
      "50%          572.000000    45356.500000      2.0  \n",
      "75%          863.000000    52735.250000      2.0  \n",
      "max         1570.000000    59997.000000      2.0  \n"
     ]
    }
   ],
   "source": [
    "# Filter the data by each cluster\n",
    "cluster_0 = merged_df[merged_df['cluster'] == 0]\n",
    "cluster_1 = merged_df[merged_df['cluster'] == 1]\n",
    "cluster_2 = merged_df[merged_df['cluster'] == 2]\n",
    "\n",
    "# Assign labels to the clusters based on characteristics\n",
    "cluster_0_label = \"Low Usage\"\n",
    "cluster_1_label = \"Medium Usage\"\n",
    "cluster_2_label = \"High Usage\"\n",
    "\n",
    "# Basic statistics for each cluster\n",
    "print(\"Cluster 0 characteristics ({}):\".format(cluster_0_label))\n",
    "print(cluster_0.describe())\n",
    "\n",
    "print(\"\\nCluster 1 characteristics ({}):\".format(cluster_1_label))\n",
    "print(cluster_1.describe())\n",
    "\n",
    "print(\"\\nCluster 2 characteristics ({}):\".format(cluster_2_label))\n",
    "print(cluster_2.describe())\n"
   ]
  },
  {
   "cell_type": "code",
   "execution_count": 27,
   "metadata": {
    "colab": {
     "base_uri": "https://localhost:8080/"
    },
    "id": "b9DDx90cmtIi",
    "outputId": "f3126813-1785-45bf-eb85-5276f7550ce4"
   },
   "outputs": [
    {
     "data": {
      "text/plain": [
       "(59997, 7)"
      ]
     },
     "execution_count": 27,
     "metadata": {},
     "output_type": "execute_result"
    }
   ],
   "source": [
    "merged_df.shape"
   ]
  },
  {
   "cell_type": "code",
   "execution_count": 28,
   "metadata": {
    "id": "znaDR781NI4S"
   },
   "outputs": [],
   "source": [
    "# Data Bifurcation\n",
    "df_cat = df[[ 'Country','StockCode','InvoiceDate']] # Categorical Data [Nominal | Ordinal]\n",
    "df_noncat = df[['Quantity', 'UnitPrice']] # Non-Categorical Data\n"
   ]
  },
  {
   "cell_type": "code",
   "execution_count": 29,
   "metadata": {
    "id": "uZG9BqAciMlT"
   },
   "outputs": [
    {
     "data": {
      "text/plain": [
       "Index(['Quantity_std', 'UnitPrice_std', 'Country_code', 'StockCode_code',\n",
       "       'InvoiceDate_code', 'observation_id'],\n",
       "      dtype='object')"
      ]
     },
     "execution_count": 29,
     "metadata": {},
     "output_type": "execute_result"
    }
   ],
   "source": [
    "X_merged = merged_df.columns\n",
    "\n",
    "# Drop the column named 'cluster' from X_merged\n",
    "X_merged = X_merged.drop('cluster')\n",
    "X_merged"
   ]
  },
  {
   "cell_type": "code",
   "execution_count": 30,
   "metadata": {
    "id": "Agyo2_ixiMnr"
   },
   "outputs": [],
   "source": [
    "X = merged_df[X_merged]\n",
    "y = merged_df['cluster']"
   ]
  },
  {
   "cell_type": "code",
   "execution_count": 31,
   "metadata": {
    "id": "MJuSiOsIn9O7"
   },
   "outputs": [],
   "source": [
    "from sklearn.model_selection import train_test_split"
   ]
  },
  {
   "cell_type": "code",
   "execution_count": 32,
   "metadata": {
    "id": "zT9a98Nnn9RN"
   },
   "outputs": [],
   "source": [
    "X_train, X_test, y_train, y_test = train_test_split(X, y, test_size=0.3, stratify=y, random_state=45004)"
   ]
  },
  {
   "cell_type": "code",
   "execution_count": 33,
   "metadata": {
    "colab": {
     "base_uri": "https://localhost:8080/"
    },
    "id": "iNkFN-EWn9Ty",
    "outputId": "9a848e8e-a624-40e3-85b8-3c69ea4c9ec6"
   },
   "outputs": [
    {
     "name": "stdout",
     "output_type": "stream",
     "text": [
      "Requirement already satisfied: ipywidgets in ./venv/lib/python3.11/site-packages (8.0.6)\n",
      "Requirement already satisfied: ipykernel>=4.5.1 in ./venv/lib/python3.11/site-packages (from ipywidgets) (6.23.2)\n",
      "Requirement already satisfied: ipython>=6.1.0 in ./venv/lib/python3.11/site-packages (from ipywidgets) (8.14.0)\n",
      "Requirement already satisfied: traitlets>=4.3.1 in ./venv/lib/python3.11/site-packages (from ipywidgets) (5.9.0)\n",
      "Requirement already satisfied: widgetsnbextension~=4.0.7 in ./venv/lib/python3.11/site-packages (from ipywidgets) (4.0.7)\n",
      "Requirement already satisfied: jupyterlab-widgets~=3.0.7 in ./venv/lib/python3.11/site-packages (from ipywidgets) (3.0.7)\n",
      "Requirement already satisfied: appnope in ./venv/lib/python3.11/site-packages (from ipykernel>=4.5.1->ipywidgets) (0.1.3)\n",
      "Requirement already satisfied: comm>=0.1.1 in ./venv/lib/python3.11/site-packages (from ipykernel>=4.5.1->ipywidgets) (0.1.3)\n",
      "Requirement already satisfied: debugpy>=1.6.5 in ./venv/lib/python3.11/site-packages (from ipykernel>=4.5.1->ipywidgets) (1.6.7)\n",
      "Requirement already satisfied: jupyter-client>=6.1.12 in ./venv/lib/python3.11/site-packages (from ipykernel>=4.5.1->ipywidgets) (8.2.0)\n",
      "Requirement already satisfied: jupyter-core!=5.0.*,>=4.12 in ./venv/lib/python3.11/site-packages (from ipykernel>=4.5.1->ipywidgets) (5.3.1)\n",
      "Requirement already satisfied: matplotlib-inline>=0.1 in ./venv/lib/python3.11/site-packages (from ipykernel>=4.5.1->ipywidgets) (0.1.6)\n",
      "Requirement already satisfied: nest-asyncio in ./venv/lib/python3.11/site-packages (from ipykernel>=4.5.1->ipywidgets) (1.5.6)\n",
      "Requirement already satisfied: packaging in ./venv/lib/python3.11/site-packages (from ipykernel>=4.5.1->ipywidgets) (23.1)\n",
      "Requirement already satisfied: psutil in ./venv/lib/python3.11/site-packages (from ipykernel>=4.5.1->ipywidgets) (5.9.5)\n",
      "Requirement already satisfied: pyzmq>=20 in ./venv/lib/python3.11/site-packages (from ipykernel>=4.5.1->ipywidgets) (25.1.0)\n",
      "Requirement already satisfied: tornado>=6.1 in ./venv/lib/python3.11/site-packages (from ipykernel>=4.5.1->ipywidgets) (6.3.2)\n",
      "Requirement already satisfied: backcall in ./venv/lib/python3.11/site-packages (from ipython>=6.1.0->ipywidgets) (0.2.0)\n",
      "Requirement already satisfied: decorator in ./venv/lib/python3.11/site-packages (from ipython>=6.1.0->ipywidgets) (5.1.1)\n",
      "Requirement already satisfied: jedi>=0.16 in ./venv/lib/python3.11/site-packages (from ipython>=6.1.0->ipywidgets) (0.18.2)\n",
      "Requirement already satisfied: pickleshare in ./venv/lib/python3.11/site-packages (from ipython>=6.1.0->ipywidgets) (0.7.5)\n",
      "Requirement already satisfied: prompt-toolkit!=3.0.37,<3.1.0,>=3.0.30 in ./venv/lib/python3.11/site-packages (from ipython>=6.1.0->ipywidgets) (3.0.38)\n",
      "Requirement already satisfied: pygments>=2.4.0 in ./venv/lib/python3.11/site-packages (from ipython>=6.1.0->ipywidgets) (2.15.1)\n",
      "Requirement already satisfied: stack-data in ./venv/lib/python3.11/site-packages (from ipython>=6.1.0->ipywidgets) (0.6.2)\n",
      "Requirement already satisfied: pexpect>4.3 in ./venv/lib/python3.11/site-packages (from ipython>=6.1.0->ipywidgets) (4.8.0)\n",
      "Requirement already satisfied: parso<0.9.0,>=0.8.0 in ./venv/lib/python3.11/site-packages (from jedi>=0.16->ipython>=6.1.0->ipywidgets) (0.8.3)\n",
      "Requirement already satisfied: python-dateutil>=2.8.2 in ./venv/lib/python3.11/site-packages (from jupyter-client>=6.1.12->ipykernel>=4.5.1->ipywidgets) (2.8.2)\n",
      "Requirement already satisfied: platformdirs>=2.5 in ./venv/lib/python3.11/site-packages (from jupyter-core!=5.0.*,>=4.12->ipykernel>=4.5.1->ipywidgets) (3.5.3)\n",
      "Requirement already satisfied: ptyprocess>=0.5 in ./venv/lib/python3.11/site-packages (from pexpect>4.3->ipython>=6.1.0->ipywidgets) (0.7.0)\n",
      "Requirement already satisfied: wcwidth in ./venv/lib/python3.11/site-packages (from prompt-toolkit!=3.0.37,<3.1.0,>=3.0.30->ipython>=6.1.0->ipywidgets) (0.2.6)\n",
      "Requirement already satisfied: executing>=1.2.0 in ./venv/lib/python3.11/site-packages (from stack-data->ipython>=6.1.0->ipywidgets) (1.2.0)\n",
      "Requirement already satisfied: asttokens>=2.1.0 in ./venv/lib/python3.11/site-packages (from stack-data->ipython>=6.1.0->ipywidgets) (2.2.1)\n",
      "Requirement already satisfied: pure-eval in ./venv/lib/python3.11/site-packages (from stack-data->ipython>=6.1.0->ipywidgets) (0.2.2)\n",
      "Requirement already satisfied: six in ./venv/lib/python3.11/site-packages (from asttokens>=2.1.0->stack-data->ipython>=6.1.0->ipywidgets) (1.16.0)\n",
      "\n",
      "\u001b[1m[\u001b[0m\u001b[34;49mnotice\u001b[0m\u001b[1;39;49m]\u001b[0m\u001b[39;49m A new release of pip is available: \u001b[0m\u001b[31;49m23.1.2\u001b[0m\u001b[39;49m -> \u001b[0m\u001b[32;49m24.0\u001b[0m\n",
      "\u001b[1m[\u001b[0m\u001b[34;49mnotice\u001b[0m\u001b[1;39;49m]\u001b[0m\u001b[39;49m To update, run: \u001b[0m\u001b[32;49mpip install --upgrade pip\u001b[0m\n"
     ]
    }
   ],
   "source": [
    "!pip install ipywidgets"
   ]
  },
  {
   "cell_type": "code",
   "execution_count": 34,
   "metadata": {
    "colab": {
     "base_uri": "https://localhost:8080/",
     "height": 628,
     "referenced_widgets": [
      "77c3c81c88b54b1b805a6e210aff7741",
      "16f0cdeffadd4622931906f73250ec3e",
      "e578592359714cff878e1815f6c51e88",
      "53278b30dd7b42da9a3a4552da43495b",
      "c9536dc16d054bc9a5df6ba6ded51f89",
      "55332c443d9247ce8888c9e28917033c",
      "479d209b48034ca0b8834e231388320a",
      "7f52a28b4d3345d0b954295170eea700",
      "a38deb14210648459d499ad2503f76d0",
      "8d762ef6b65c404ba1f798ce81621576"
     ]
    },
    "id": "gX5PWe-Ln9Wa",
    "outputId": "cf9a0926-fbbc-4197-b408-cb77080a603f"
   },
   "outputs": [
    {
     "data": {
      "application/vnd.jupyter.widget-view+json": {
       "model_id": "1dc10036bd084284bb8a5fad8ab155a3",
       "version_major": 2,
       "version_minor": 0
      },
      "text/plain": [
       "interactive(children=(Dropdown(description='x_col', options=('Quantity_std', 'UnitPrice_std', 'Country_code', …"
      ]
     },
     "execution_count": 34,
     "metadata": {},
     "output_type": "execute_result"
    }
   ],
   "source": [
    "import matplotlib.pyplot as plt\n",
    "import ipywidgets as widgets\n",
    "from ipywidgets import interactive\n",
    "import pandas as pd\n",
    "\n",
    "# Get the list of column names from merged_df\n",
    "column_names = merged_df.columns\n",
    "\n",
    "# Define the function to create scatter plot\n",
    "def create_scatter_plot(x_col, y_col):\n",
    "    plt.figure(figsize=(10, 6))\n",
    "    plt.scatter(merged_df[x_col], merged_df[y_col])\n",
    "    plt.xlabel(x_col)\n",
    "    plt.ylabel(y_col)\n",
    "    plt.title('Interactive Scatter Plot')\n",
    "    plt.show()\n",
    "\n",
    "# Create interactive widget\n",
    "interactive_plot = interactive(create_scatter_plot, x_col=column_names, y_col=column_names)\n",
    "\n",
    "# Display the interactive plot\n",
    "interactive_plot\n"
   ]
  },
  {
   "cell_type": "code",
   "execution_count": 35,
   "metadata": {
    "id": "ap68mhUHn9ZB"
   },
   "outputs": [
    {
     "name": "stderr",
     "output_type": "stream",
     "text": [
      "/Users/narendersinghyadav/PycharmProjects/AdityaPython/venv/lib/python3.11/site-packages/sklearn/linear_model/_logistic.py:469: ConvergenceWarning: lbfgs failed to converge (status=1):\n",
      "STOP: TOTAL NO. of f AND g EVALUATIONS EXCEEDS LIMIT.\n",
      "\n",
      "Increase the number of iterations (max_iter) or scale the data as shown in:\n",
      "    https://scikit-learn.org/stable/modules/preprocessing.html\n",
      "Please also refer to the documentation for alternative solver options:\n",
      "    https://scikit-learn.org/stable/modules/linear_model.html#logistic-regression\n",
      "  n_iter_i = _check_optimize_result(\n"
     ]
    }
   ],
   "source": [
    "#logistic regression\n",
    "from sklearn.linear_model import LogisticRegression\n",
    "from sklearn.preprocessing import StandardScaler\n",
    "scaler = StandardScaler()\n",
    "#X_train_scaled = scaler.fit_transform(X_train)\n",
    "#X_test_scaled = scaler.transform(X_test)\n",
    "logistic_model = LogisticRegression(max_iter=50000)\n",
    "logistic_model.fit(X_train, y_train)\n",
    "base_pred = logistic_model.predict(X_test)"
   ]
  },
  {
   "cell_type": "code",
   "execution_count": 36,
   "metadata": {
    "colab": {
     "base_uri": "https://localhost:8080/"
    },
    "id": "lw04Nk-sn9bm",
    "outputId": "c7695234-7608-4cfe-cc3a-ed8c21b5560d"
   },
   "outputs": [
    {
     "name": "stdout",
     "output_type": "stream",
     "text": [
      "              precision    recall  f1-score   support\n",
      "\n",
      "           0       0.62      0.51      0.56      5185\n",
      "           1       0.84      0.92      0.88      6782\n",
      "           2       0.77      0.81      0.79      6033\n",
      "\n",
      "    accuracy                           0.76     18000\n",
      "   macro avg       0.74      0.75      0.74     18000\n",
      "weighted avg       0.75      0.76      0.76     18000\n",
      "\n"
     ]
    }
   ],
   "source": [
    "from sklearn.metrics import confusion_matrix,classification_report\n",
    "print(classification_report(y_test,base_pred))"
   ]
  },
  {
   "cell_type": "code",
   "execution_count": 37,
   "metadata": {
    "id": "AFpAMZktoaoj"
   },
   "outputs": [],
   "source": [
    "#KNN Classifier\n",
    "from sklearn.neighbors import KNeighborsClassifier\n",
    "knn_model = KNeighborsClassifier(n_neighbors=11)\n",
    "knn_model.fit(X_train,y_train)\n",
    "y_pred = knn_model.predict(X_test)"
   ]
  },
  {
   "cell_type": "code",
   "execution_count": 38,
   "metadata": {
    "colab": {
     "base_uri": "https://localhost:8080/"
    },
    "id": "tgfYajM3oaq5",
    "outputId": "2e8b2df0-149c-4a9f-a444-15f901e67564"
   },
   "outputs": [
    {
     "name": "stdout",
     "output_type": "stream",
     "text": [
      "              precision    recall  f1-score   support\n",
      "\n",
      "           0       0.72      0.56      0.63      5185\n",
      "           1       0.88      0.95      0.91      6782\n",
      "           2       0.78      0.86      0.82      6033\n",
      "\n",
      "    accuracy                           0.81     18000\n",
      "   macro avg       0.79      0.79      0.79     18000\n",
      "weighted avg       0.80      0.81      0.80     18000\n",
      "\n"
     ]
    }
   ],
   "source": [
    "from sklearn.metrics import classification_report,confusion_matrix,accuracy_score\n",
    "print(classification_report(y_test,y_pred))"
   ]
  },
  {
   "cell_type": "code",
   "execution_count": 39,
   "metadata": {
    "colab": {
     "base_uri": "https://localhost:8080/",
     "height": 316
    },
    "id": "jvNlnp0roatT",
    "outputId": "6283dc71-43ee-412c-bee6-f894f4743905"
   },
   "outputs": [
    {
     "data": {
      "text/html": [
       "<style>#sk-container-id-1 {\n",
       "  /* Definition of color scheme common for light and dark mode */\n",
       "  --sklearn-color-text: black;\n",
       "  --sklearn-color-line: gray;\n",
       "  /* Definition of color scheme for unfitted estimators */\n",
       "  --sklearn-color-unfitted-level-0: #fff5e6;\n",
       "  --sklearn-color-unfitted-level-1: #f6e4d2;\n",
       "  --sklearn-color-unfitted-level-2: #ffe0b3;\n",
       "  --sklearn-color-unfitted-level-3: chocolate;\n",
       "  /* Definition of color scheme for fitted estimators */\n",
       "  --sklearn-color-fitted-level-0: #f0f8ff;\n",
       "  --sklearn-color-fitted-level-1: #d4ebff;\n",
       "  --sklearn-color-fitted-level-2: #b3dbfd;\n",
       "  --sklearn-color-fitted-level-3: cornflowerblue;\n",
       "\n",
       "  /* Specific color for light theme */\n",
       "  --sklearn-color-text-on-default-background: var(--sg-text-color, var(--theme-code-foreground, var(--jp-content-font-color1, black)));\n",
       "  --sklearn-color-background: var(--sg-background-color, var(--theme-background, var(--jp-layout-color0, white)));\n",
       "  --sklearn-color-border-box: var(--sg-text-color, var(--theme-code-foreground, var(--jp-content-font-color1, black)));\n",
       "  --sklearn-color-icon: #696969;\n",
       "\n",
       "  @media (prefers-color-scheme: dark) {\n",
       "    /* Redefinition of color scheme for dark theme */\n",
       "    --sklearn-color-text-on-default-background: var(--sg-text-color, var(--theme-code-foreground, var(--jp-content-font-color1, white)));\n",
       "    --sklearn-color-background: var(--sg-background-color, var(--theme-background, var(--jp-layout-color0, #111)));\n",
       "    --sklearn-color-border-box: var(--sg-text-color, var(--theme-code-foreground, var(--jp-content-font-color1, white)));\n",
       "    --sklearn-color-icon: #878787;\n",
       "  }\n",
       "}\n",
       "\n",
       "#sk-container-id-1 {\n",
       "  color: var(--sklearn-color-text);\n",
       "}\n",
       "\n",
       "#sk-container-id-1 pre {\n",
       "  padding: 0;\n",
       "}\n",
       "\n",
       "#sk-container-id-1 input.sk-hidden--visually {\n",
       "  border: 0;\n",
       "  clip: rect(1px 1px 1px 1px);\n",
       "  clip: rect(1px, 1px, 1px, 1px);\n",
       "  height: 1px;\n",
       "  margin: -1px;\n",
       "  overflow: hidden;\n",
       "  padding: 0;\n",
       "  position: absolute;\n",
       "  width: 1px;\n",
       "}\n",
       "\n",
       "#sk-container-id-1 div.sk-dashed-wrapped {\n",
       "  border: 1px dashed var(--sklearn-color-line);\n",
       "  margin: 0 0.4em 0.5em 0.4em;\n",
       "  box-sizing: border-box;\n",
       "  padding-bottom: 0.4em;\n",
       "  background-color: var(--sklearn-color-background);\n",
       "}\n",
       "\n",
       "#sk-container-id-1 div.sk-container {\n",
       "  /* jupyter's `normalize.less` sets `[hidden] { display: none; }`\n",
       "     but bootstrap.min.css set `[hidden] { display: none !important; }`\n",
       "     so we also need the `!important` here to be able to override the\n",
       "     default hidden behavior on the sphinx rendered scikit-learn.org.\n",
       "     See: https://github.com/scikit-learn/scikit-learn/issues/21755 */\n",
       "  display: inline-block !important;\n",
       "  position: relative;\n",
       "}\n",
       "\n",
       "#sk-container-id-1 div.sk-text-repr-fallback {\n",
       "  display: none;\n",
       "}\n",
       "\n",
       "div.sk-parallel-item,\n",
       "div.sk-serial,\n",
       "div.sk-item {\n",
       "  /* draw centered vertical line to link estimators */\n",
       "  background-image: linear-gradient(var(--sklearn-color-text-on-default-background), var(--sklearn-color-text-on-default-background));\n",
       "  background-size: 2px 100%;\n",
       "  background-repeat: no-repeat;\n",
       "  background-position: center center;\n",
       "}\n",
       "\n",
       "/* Parallel-specific style estimator block */\n",
       "\n",
       "#sk-container-id-1 div.sk-parallel-item::after {\n",
       "  content: \"\";\n",
       "  width: 100%;\n",
       "  border-bottom: 2px solid var(--sklearn-color-text-on-default-background);\n",
       "  flex-grow: 1;\n",
       "}\n",
       "\n",
       "#sk-container-id-1 div.sk-parallel {\n",
       "  display: flex;\n",
       "  align-items: stretch;\n",
       "  justify-content: center;\n",
       "  background-color: var(--sklearn-color-background);\n",
       "  position: relative;\n",
       "}\n",
       "\n",
       "#sk-container-id-1 div.sk-parallel-item {\n",
       "  display: flex;\n",
       "  flex-direction: column;\n",
       "}\n",
       "\n",
       "#sk-container-id-1 div.sk-parallel-item:first-child::after {\n",
       "  align-self: flex-end;\n",
       "  width: 50%;\n",
       "}\n",
       "\n",
       "#sk-container-id-1 div.sk-parallel-item:last-child::after {\n",
       "  align-self: flex-start;\n",
       "  width: 50%;\n",
       "}\n",
       "\n",
       "#sk-container-id-1 div.sk-parallel-item:only-child::after {\n",
       "  width: 0;\n",
       "}\n",
       "\n",
       "/* Serial-specific style estimator block */\n",
       "\n",
       "#sk-container-id-1 div.sk-serial {\n",
       "  display: flex;\n",
       "  flex-direction: column;\n",
       "  align-items: center;\n",
       "  background-color: var(--sklearn-color-background);\n",
       "  padding-right: 1em;\n",
       "  padding-left: 1em;\n",
       "}\n",
       "\n",
       "\n",
       "/* Toggleable style: style used for estimator/Pipeline/ColumnTransformer box that is\n",
       "clickable and can be expanded/collapsed.\n",
       "- Pipeline and ColumnTransformer use this feature and define the default style\n",
       "- Estimators will overwrite some part of the style using the `sk-estimator` class\n",
       "*/\n",
       "\n",
       "/* Pipeline and ColumnTransformer style (default) */\n",
       "\n",
       "#sk-container-id-1 div.sk-toggleable {\n",
       "  /* Default theme specific background. It is overwritten whether we have a\n",
       "  specific estimator or a Pipeline/ColumnTransformer */\n",
       "  background-color: var(--sklearn-color-background);\n",
       "}\n",
       "\n",
       "/* Toggleable label */\n",
       "#sk-container-id-1 label.sk-toggleable__label {\n",
       "  cursor: pointer;\n",
       "  display: block;\n",
       "  width: 100%;\n",
       "  margin-bottom: 0;\n",
       "  padding: 0.5em;\n",
       "  box-sizing: border-box;\n",
       "  text-align: center;\n",
       "}\n",
       "\n",
       "#sk-container-id-1 label.sk-toggleable__label-arrow:before {\n",
       "  /* Arrow on the left of the label */\n",
       "  content: \"▸\";\n",
       "  float: left;\n",
       "  margin-right: 0.25em;\n",
       "  color: var(--sklearn-color-icon);\n",
       "}\n",
       "\n",
       "#sk-container-id-1 label.sk-toggleable__label-arrow:hover:before {\n",
       "  color: var(--sklearn-color-text);\n",
       "}\n",
       "\n",
       "/* Toggleable content - dropdown */\n",
       "\n",
       "#sk-container-id-1 div.sk-toggleable__content {\n",
       "  max-height: 0;\n",
       "  max-width: 0;\n",
       "  overflow: hidden;\n",
       "  text-align: left;\n",
       "  /* unfitted */\n",
       "  background-color: var(--sklearn-color-unfitted-level-0);\n",
       "}\n",
       "\n",
       "#sk-container-id-1 div.sk-toggleable__content.fitted {\n",
       "  /* fitted */\n",
       "  background-color: var(--sklearn-color-fitted-level-0);\n",
       "}\n",
       "\n",
       "#sk-container-id-1 div.sk-toggleable__content pre {\n",
       "  margin: 0.2em;\n",
       "  border-radius: 0.25em;\n",
       "  color: var(--sklearn-color-text);\n",
       "  /* unfitted */\n",
       "  background-color: var(--sklearn-color-unfitted-level-0);\n",
       "}\n",
       "\n",
       "#sk-container-id-1 div.sk-toggleable__content.fitted pre {\n",
       "  /* unfitted */\n",
       "  background-color: var(--sklearn-color-fitted-level-0);\n",
       "}\n",
       "\n",
       "#sk-container-id-1 input.sk-toggleable__control:checked~div.sk-toggleable__content {\n",
       "  /* Expand drop-down */\n",
       "  max-height: 200px;\n",
       "  max-width: 100%;\n",
       "  overflow: auto;\n",
       "}\n",
       "\n",
       "#sk-container-id-1 input.sk-toggleable__control:checked~label.sk-toggleable__label-arrow:before {\n",
       "  content: \"▾\";\n",
       "}\n",
       "\n",
       "/* Pipeline/ColumnTransformer-specific style */\n",
       "\n",
       "#sk-container-id-1 div.sk-label input.sk-toggleable__control:checked~label.sk-toggleable__label {\n",
       "  color: var(--sklearn-color-text);\n",
       "  background-color: var(--sklearn-color-unfitted-level-2);\n",
       "}\n",
       "\n",
       "#sk-container-id-1 div.sk-label.fitted input.sk-toggleable__control:checked~label.sk-toggleable__label {\n",
       "  background-color: var(--sklearn-color-fitted-level-2);\n",
       "}\n",
       "\n",
       "/* Estimator-specific style */\n",
       "\n",
       "/* Colorize estimator box */\n",
       "#sk-container-id-1 div.sk-estimator input.sk-toggleable__control:checked~label.sk-toggleable__label {\n",
       "  /* unfitted */\n",
       "  background-color: var(--sklearn-color-unfitted-level-2);\n",
       "}\n",
       "\n",
       "#sk-container-id-1 div.sk-estimator.fitted input.sk-toggleable__control:checked~label.sk-toggleable__label {\n",
       "  /* fitted */\n",
       "  background-color: var(--sklearn-color-fitted-level-2);\n",
       "}\n",
       "\n",
       "#sk-container-id-1 div.sk-label label.sk-toggleable__label,\n",
       "#sk-container-id-1 div.sk-label label {\n",
       "  /* The background is the default theme color */\n",
       "  color: var(--sklearn-color-text-on-default-background);\n",
       "}\n",
       "\n",
       "/* On hover, darken the color of the background */\n",
       "#sk-container-id-1 div.sk-label:hover label.sk-toggleable__label {\n",
       "  color: var(--sklearn-color-text);\n",
       "  background-color: var(--sklearn-color-unfitted-level-2);\n",
       "}\n",
       "\n",
       "/* Label box, darken color on hover, fitted */\n",
       "#sk-container-id-1 div.sk-label.fitted:hover label.sk-toggleable__label.fitted {\n",
       "  color: var(--sklearn-color-text);\n",
       "  background-color: var(--sklearn-color-fitted-level-2);\n",
       "}\n",
       "\n",
       "/* Estimator label */\n",
       "\n",
       "#sk-container-id-1 div.sk-label label {\n",
       "  font-family: monospace;\n",
       "  font-weight: bold;\n",
       "  display: inline-block;\n",
       "  line-height: 1.2em;\n",
       "}\n",
       "\n",
       "#sk-container-id-1 div.sk-label-container {\n",
       "  text-align: center;\n",
       "}\n",
       "\n",
       "/* Estimator-specific */\n",
       "#sk-container-id-1 div.sk-estimator {\n",
       "  font-family: monospace;\n",
       "  border: 1px dotted var(--sklearn-color-border-box);\n",
       "  border-radius: 0.25em;\n",
       "  box-sizing: border-box;\n",
       "  margin-bottom: 0.5em;\n",
       "  /* unfitted */\n",
       "  background-color: var(--sklearn-color-unfitted-level-0);\n",
       "}\n",
       "\n",
       "#sk-container-id-1 div.sk-estimator.fitted {\n",
       "  /* fitted */\n",
       "  background-color: var(--sklearn-color-fitted-level-0);\n",
       "}\n",
       "\n",
       "/* on hover */\n",
       "#sk-container-id-1 div.sk-estimator:hover {\n",
       "  /* unfitted */\n",
       "  background-color: var(--sklearn-color-unfitted-level-2);\n",
       "}\n",
       "\n",
       "#sk-container-id-1 div.sk-estimator.fitted:hover {\n",
       "  /* fitted */\n",
       "  background-color: var(--sklearn-color-fitted-level-2);\n",
       "}\n",
       "\n",
       "/* Specification for estimator info (e.g. \"i\" and \"?\") */\n",
       "\n",
       "/* Common style for \"i\" and \"?\" */\n",
       "\n",
       ".sk-estimator-doc-link,\n",
       "a:link.sk-estimator-doc-link,\n",
       "a:visited.sk-estimator-doc-link {\n",
       "  float: right;\n",
       "  font-size: smaller;\n",
       "  line-height: 1em;\n",
       "  font-family: monospace;\n",
       "  background-color: var(--sklearn-color-background);\n",
       "  border-radius: 1em;\n",
       "  height: 1em;\n",
       "  width: 1em;\n",
       "  text-decoration: none !important;\n",
       "  margin-left: 1ex;\n",
       "  /* unfitted */\n",
       "  border: var(--sklearn-color-unfitted-level-1) 1pt solid;\n",
       "  color: var(--sklearn-color-unfitted-level-1);\n",
       "}\n",
       "\n",
       ".sk-estimator-doc-link.fitted,\n",
       "a:link.sk-estimator-doc-link.fitted,\n",
       "a:visited.sk-estimator-doc-link.fitted {\n",
       "  /* fitted */\n",
       "  border: var(--sklearn-color-fitted-level-1) 1pt solid;\n",
       "  color: var(--sklearn-color-fitted-level-1);\n",
       "}\n",
       "\n",
       "/* On hover */\n",
       "div.sk-estimator:hover .sk-estimator-doc-link:hover,\n",
       ".sk-estimator-doc-link:hover,\n",
       "div.sk-label-container:hover .sk-estimator-doc-link:hover,\n",
       ".sk-estimator-doc-link:hover {\n",
       "  /* unfitted */\n",
       "  background-color: var(--sklearn-color-unfitted-level-3);\n",
       "  color: var(--sklearn-color-background);\n",
       "  text-decoration: none;\n",
       "}\n",
       "\n",
       "div.sk-estimator.fitted:hover .sk-estimator-doc-link.fitted:hover,\n",
       ".sk-estimator-doc-link.fitted:hover,\n",
       "div.sk-label-container:hover .sk-estimator-doc-link.fitted:hover,\n",
       ".sk-estimator-doc-link.fitted:hover {\n",
       "  /* fitted */\n",
       "  background-color: var(--sklearn-color-fitted-level-3);\n",
       "  color: var(--sklearn-color-background);\n",
       "  text-decoration: none;\n",
       "}\n",
       "\n",
       "/* Span, style for the box shown on hovering the info icon */\n",
       ".sk-estimator-doc-link span {\n",
       "  display: none;\n",
       "  z-index: 9999;\n",
       "  position: relative;\n",
       "  font-weight: normal;\n",
       "  right: .2ex;\n",
       "  padding: .5ex;\n",
       "  margin: .5ex;\n",
       "  width: min-content;\n",
       "  min-width: 20ex;\n",
       "  max-width: 50ex;\n",
       "  color: var(--sklearn-color-text);\n",
       "  box-shadow: 2pt 2pt 4pt #999;\n",
       "  /* unfitted */\n",
       "  background: var(--sklearn-color-unfitted-level-0);\n",
       "  border: .5pt solid var(--sklearn-color-unfitted-level-3);\n",
       "}\n",
       "\n",
       ".sk-estimator-doc-link.fitted span {\n",
       "  /* fitted */\n",
       "  background: var(--sklearn-color-fitted-level-0);\n",
       "  border: var(--sklearn-color-fitted-level-3);\n",
       "}\n",
       "\n",
       ".sk-estimator-doc-link:hover span {\n",
       "  display: block;\n",
       "}\n",
       "\n",
       "/* \"?\"-specific style due to the `<a>` HTML tag */\n",
       "\n",
       "#sk-container-id-1 a.estimator_doc_link {\n",
       "  float: right;\n",
       "  font-size: 1rem;\n",
       "  line-height: 1em;\n",
       "  font-family: monospace;\n",
       "  background-color: var(--sklearn-color-background);\n",
       "  border-radius: 1rem;\n",
       "  height: 1rem;\n",
       "  width: 1rem;\n",
       "  text-decoration: none;\n",
       "  /* unfitted */\n",
       "  color: var(--sklearn-color-unfitted-level-1);\n",
       "  border: var(--sklearn-color-unfitted-level-1) 1pt solid;\n",
       "}\n",
       "\n",
       "#sk-container-id-1 a.estimator_doc_link.fitted {\n",
       "  /* fitted */\n",
       "  border: var(--sklearn-color-fitted-level-1) 1pt solid;\n",
       "  color: var(--sklearn-color-fitted-level-1);\n",
       "}\n",
       "\n",
       "/* On hover */\n",
       "#sk-container-id-1 a.estimator_doc_link:hover {\n",
       "  /* unfitted */\n",
       "  background-color: var(--sklearn-color-unfitted-level-3);\n",
       "  color: var(--sklearn-color-background);\n",
       "  text-decoration: none;\n",
       "}\n",
       "\n",
       "#sk-container-id-1 a.estimator_doc_link.fitted:hover {\n",
       "  /* fitted */\n",
       "  background-color: var(--sklearn-color-fitted-level-3);\n",
       "}\n",
       "</style><div id=\"sk-container-id-1\" class=\"sk-top-container\"><div class=\"sk-text-repr-fallback\"><pre>DecisionTreeClassifier(random_state=45004)</pre><b>In a Jupyter environment, please rerun this cell to show the HTML representation or trust the notebook. <br />On GitHub, the HTML representation is unable to render, please try loading this page with nbviewer.org.</b></div><div class=\"sk-container\" hidden><div class=\"sk-item\"><div class=\"sk-estimator fitted sk-toggleable\"><input class=\"sk-toggleable__control sk-hidden--visually\" id=\"sk-estimator-id-1\" type=\"checkbox\" checked><label for=\"sk-estimator-id-1\" class=\"sk-toggleable__label fitted sk-toggleable__label-arrow fitted\">&nbsp;&nbsp;DecisionTreeClassifier<a class=\"sk-estimator-doc-link fitted\" rel=\"noreferrer\" target=\"_blank\" href=\"https://scikit-learn.org/1.4/modules/generated/sklearn.tree.DecisionTreeClassifier.html\">?<span>Documentation for DecisionTreeClassifier</span></a><span class=\"sk-estimator-doc-link fitted\">i<span>Fitted</span></span></label><div class=\"sk-toggleable__content fitted\"><pre>DecisionTreeClassifier(random_state=45004)</pre></div> </div></div></div></div>"
      ],
      "text/plain": [
       "DecisionTreeClassifier(random_state=45004)"
      ]
     },
     "execution_count": 39,
     "metadata": {},
     "output_type": "execute_result"
    }
   ],
   "source": [
    "#decision tree\n",
    "from sklearn.tree import DecisionTreeClassifier, export_text, plot_tree  # For Decision Tree Model\n",
    "from sklearn.metrics import confusion_matrix, classification_report # For Decision Tree Model Evaluation\n",
    "dtc = DecisionTreeClassifier(criterion='gini', random_state=45004,) # Other Criteria : Entropy,  Log Loss \n",
    "dtc_model = dtc.fit(X_train,y_train); dtc_model\n"
   ]
  },
  {
   "cell_type": "code",
   "execution_count": 40,
   "metadata": {},
   "outputs": [
    {
     "name": "stdout",
     "output_type": "stream",
     "text": [
      "|--- InvoiceDate_code <= 1297.50\n",
      "|   |--- StockCode_code <= 1538.50\n",
      "|   |   |--- InvoiceDate_code <= 1183.00\n",
      "|   |   |   |--- InvoiceDate_code <= 866.00\n",
      "|   |   |   |   |--- truncated branch of depth 47\n",
      "|   |   |   |--- InvoiceDate_code >  866.00\n",
      "|   |   |   |   |--- truncated branch of depth 32\n",
      "|   |   |--- InvoiceDate_code >  1183.00\n",
      "|   |   |   |--- observation_id <= 32761.50\n",
      "|   |   |   |   |--- truncated branch of depth 16\n",
      "|   |   |   |--- observation_id >  32761.50\n",
      "|   |   |   |   |--- truncated branch of depth 21\n",
      "|   |--- StockCode_code >  1538.50\n",
      "|   |   |--- StockCode_code <= 1716.50\n",
      "|   |   |   |--- InvoiceDate_code <= 713.50\n",
      "|   |   |   |   |--- truncated branch of depth 24\n",
      "|   |   |   |--- InvoiceDate_code >  713.50\n",
      "|   |   |   |   |--- truncated branch of depth 21\n",
      "|   |   |--- StockCode_code >  1716.50\n",
      "|   |   |   |--- Quantity_std <= -0.09\n",
      "|   |   |   |   |--- truncated branch of depth 32\n",
      "|   |   |   |--- Quantity_std >  -0.09\n",
      "|   |   |   |   |--- truncated branch of depth 41\n",
      "|--- InvoiceDate_code >  1297.50\n",
      "|   |--- StockCode_code <= 1912.50\n",
      "|   |   |--- InvoiceDate_code <= 1623.50\n",
      "|   |   |   |--- StockCode_code <= 1551.50\n",
      "|   |   |   |   |--- truncated branch of depth 27\n",
      "|   |   |   |--- StockCode_code >  1551.50\n",
      "|   |   |   |   |--- truncated branch of depth 20\n",
      "|   |   |--- InvoiceDate_code >  1623.50\n",
      "|   |   |   |--- InvoiceDate_code <= 2048.00\n",
      "|   |   |   |   |--- truncated branch of depth 42\n",
      "|   |   |   |--- InvoiceDate_code >  2048.00\n",
      "|   |   |   |   |--- truncated branch of depth 29\n",
      "|   |--- StockCode_code >  1912.50\n",
      "|   |   |--- InvoiceDate_code <= 1802.00\n",
      "|   |   |   |--- Quantity_std <= -0.09\n",
      "|   |   |   |   |--- truncated branch of depth 17\n",
      "|   |   |   |--- Quantity_std >  -0.09\n",
      "|   |   |   |   |--- truncated branch of depth 19\n",
      "|   |   |--- InvoiceDate_code >  1802.00\n",
      "|   |   |   |--- StockCode_code <= 2205.50\n",
      "|   |   |   |   |--- truncated branch of depth 20\n",
      "|   |   |   |--- StockCode_code >  2205.50\n",
      "|   |   |   |   |--- truncated branch of depth 20\n",
      "\n"
     ]
    },
    {
     "ename": "AttributeError",
     "evalue": "'DecisionTreeClassifier' object has no attribute 'feature_importances'",
     "output_type": "error",
     "traceback": [
      "\u001b[0;31m---------------------------------------------------------------------------\u001b[0m",
      "\u001b[0;31mAttributeError\u001b[0m                            Traceback (most recent call last)",
      "Cell \u001b[0;32mIn[40], line 4\u001b[0m\n\u001b[1;32m      2\u001b[0m dtc_model_rules \u001b[38;5;241m=\u001b[39m export_text(dtc_model, feature_names \u001b[38;5;241m=\u001b[39m \u001b[38;5;28mlist\u001b[39m(X_train), max_depth\u001b[38;5;241m=\u001b[39m\u001b[38;5;241m3\u001b[39m); \u001b[38;5;28mprint\u001b[39m(dtc_model_rules)\n\u001b[1;32m      3\u001b[0m \u001b[38;5;66;03m# Decision Tree : Feature Importance\u001b[39;00m\n\u001b[0;32m----> 4\u001b[0m dtc_imp_features \u001b[38;5;241m=\u001b[39m pd\u001b[38;5;241m.\u001b[39mDataFrame({\u001b[38;5;124m'\u001b[39m\u001b[38;5;124mfeature\u001b[39m\u001b[38;5;124m'\u001b[39m: X_train, \u001b[38;5;124m'\u001b[39m\u001b[38;5;124mimportance\u001b[39m\u001b[38;5;124m'\u001b[39m: np\u001b[38;5;241m.\u001b[39mround(\u001b[43mdtc_model\u001b[49m\u001b[38;5;241;43m.\u001b[39;49m\u001b[43mfeature_importances\u001b[49m)})\n\u001b[1;32m      5\u001b[0m dtc_imp_features\u001b[38;5;241m.\u001b[39msort_values(\u001b[38;5;124m'\u001b[39m\u001b[38;5;124mimportance\u001b[39m\u001b[38;5;124m'\u001b[39m, ascending\u001b[38;5;241m=\u001b[39m\u001b[38;5;28;01mFalse\u001b[39;00m, inplace\u001b[38;5;241m=\u001b[39m\u001b[38;5;28;01mTrue\u001b[39;00m); dtc_imp_features\n",
      "\u001b[0;31mAttributeError\u001b[0m: 'DecisionTreeClassifier' object has no attribute 'feature_importances'"
     ]
    }
   ],
   "source": [
    "# Decision Tree : Model Rules\n",
    "dtc_model_rules = export_text(dtc_model, feature_names = list(X_train), max_depth=3); print(dtc_model_rules)\n",
    "# Decision Tree : Feature Importance\n",
    "dtc_imp_features = pd.DataFrame({'feature': X_train, 'importance': np.round(dtc_model.feature_importances)})\n",
    "dtc_imp_features.sort_values('importance', ascending=False, inplace=True); dtc_imp_features\n"
   ]
  },
  {
   "cell_type": "code",
   "execution_count": 41,
   "metadata": {
    "id": "pOp0XJ--olU2"
   },
   "outputs": [
    {
     "data": {
      "text/plain": [
       "array([1, 1, 0, ..., 1, 1, 2], dtype=int32)"
      ]
     },
     "execution_count": 41,
     "metadata": {},
     "output_type": "execute_result"
    }
   ],
   "source": [
    "# Decision Tree : Prediction (Testing Subset)\n",
    "dtc_predict = dtc_model.predict(X_test); dtc_predict"
   ]
  },
  {
   "cell_type": "code",
   "execution_count": 42,
   "metadata": {
    "id": "Jgniz6jHpN5U",
    "scrolled": true
   },
   "outputs": [
    {
     "name": "stdout",
     "output_type": "stream",
     "text": [
      "              precision    recall  f1-score   support\n",
      "\n",
      "           0       0.58      0.59      0.59      5185\n",
      "           1       0.88      0.88      0.88      6782\n",
      "           2       0.76      0.76      0.76      6033\n",
      "\n",
      "    accuracy                           0.76     18000\n",
      "   macro avg       0.74      0.74      0.74     18000\n",
      "weighted avg       0.76      0.76      0.76     18000\n",
      "\n"
     ]
    }
   ],
   "source": [
    "from sklearn.metrics import classification_report\n",
    "print(classification_report(y_test,dtc_predict))"
   ]
  },
  {
   "cell_type": "code",
   "execution_count": 48,
   "metadata": {},
   "outputs": [
    {
     "name": "stdout",
     "output_type": "stream",
     "text": [
      "Collecting memory-profiler\n",
      "  Downloading memory_profiler-0.61.0-py3-none-any.whl (31 kB)\n",
      "Requirement already satisfied: psutil in ./venv/lib/python3.11/site-packages (from memory-profiler) (5.9.5)\n",
      "Installing collected packages: memory-profiler\n",
      "Successfully installed memory-profiler-0.61.0\n",
      "\n",
      "\u001b[1m[\u001b[0m\u001b[34;49mnotice\u001b[0m\u001b[1;39;49m]\u001b[0m\u001b[39;49m A new release of pip is available: \u001b[0m\u001b[31;49m23.1.2\u001b[0m\u001b[39;49m -> \u001b[0m\u001b[32;49m24.0\u001b[0m\n",
      "\u001b[1m[\u001b[0m\u001b[34;49mnotice\u001b[0m\u001b[1;39;49m]\u001b[0m\u001b[39;49m To update, run: \u001b[0m\u001b[32;49mpip install --upgrade pip\u001b[0m\n",
      "Note: you may need to restart the kernel to use updated packages.\n"
     ]
    }
   ],
   "source": [
    "pip install memory-profiler\n"
   ]
  },
  {
   "cell_type": "code",
   "execution_count": 49,
   "metadata": {},
   "outputs": [
    {
     "name": "stdout",
     "output_type": "stream",
     "text": [
      "Execution time: 0.45960021018981934 seconds\n",
      "Peak memory usage: 65.2421875 MB\n"
     ]
    }
   ],
   "source": [
    "# Decision Tree Model\n",
    "from sklearn.tree import DecisionTreeClassifier\n",
    "import time\n",
    "from memory_profiler import memory_usage\n",
    "\n",
    "# Measure start time\n",
    "start_time = time.time()\n",
    "\n",
    "# Start memory profiler\n",
    "mem_usage = memory_usage()\n",
    "\n",
    "# Code snippet\n",
    "dtc = DecisionTreeClassifier(criterion='gini', random_state=45051)\n",
    "dtc_model = dtc.fit(X_train, y_train)\n",
    "dtc_predict = dtc_model.predict(X_test)\n",
    "\n",
    "# End memory profiler\n",
    "mem_usage = memory_usage(max_usage=True)\n",
    "\n",
    "# Measure end time\n",
    "end_time = time.time()\n",
    "\n",
    "# Calculate execution time\n",
    "execution_time = end_time - start_time\n",
    "\n",
    "print(\"Execution time:\", execution_time, \"seconds\")\n",
    "print(\"Peak memory usage:\", mem_usage, \"MB\")"
   ]
  },
  {
   "cell_type": "code",
   "execution_count": 50,
   "metadata": {},
   "outputs": [
    {
     "name": "stdout",
     "output_type": "stream",
     "text": [
      "Execution time: 53.60744500160217 seconds\n",
      "Peak memory usage: 61.84375 MB\n"
     ]
    },
    {
     "name": "stderr",
     "output_type": "stream",
     "text": [
      "/Users/narendersinghyadav/PycharmProjects/AdityaPython/venv/lib/python3.11/site-packages/sklearn/linear_model/_logistic.py:469: ConvergenceWarning: lbfgs failed to converge (status=1):\n",
      "STOP: TOTAL NO. of f AND g EVALUATIONS EXCEEDS LIMIT.\n",
      "\n",
      "Increase the number of iterations (max_iter) or scale the data as shown in:\n",
      "    https://scikit-learn.org/stable/modules/preprocessing.html\n",
      "Please also refer to the documentation for alternative solver options:\n",
      "    https://scikit-learn.org/stable/modules/linear_model.html#logistic-regression\n",
      "  n_iter_i = _check_optimize_result(\n"
     ]
    }
   ],
   "source": [
    "# Logistic regression\n",
    "from sklearn.linear_model import LogisticRegression\n",
    "import time\n",
    "from memory_profiler import memory_usage\n",
    "\n",
    "# Measure start time\n",
    "start_time = time.time()\n",
    "\n",
    "# Start memory profiler\n",
    "mem_usage = memory_usage()\n",
    "\n",
    "# Code snippet\n",
    "logistic_model = LogisticRegression(max_iter=50000)\n",
    "logistic_model.fit(X_train, y_train)\n",
    "base_pred = logistic_model.predict(X_test)\n",
    "\n",
    "# End memory profiler\n",
    "mem_usage = memory_usage(max_usage=True)\n",
    "\n",
    "# Measure end time\n",
    "end_time = time.time()\n",
    "\n",
    "# Calculate execution time\n",
    "execution_time = end_time - start_time\n",
    "\n",
    "print(\"Execution time:\", execution_time, \"seconds\")\n",
    "print(\"Peak memory usage:\", mem_usage, \"MB\")"
   ]
  },
  {
   "cell_type": "code",
   "execution_count": 51,
   "metadata": {},
   "outputs": [
    {
     "name": "stdout",
     "output_type": "stream",
     "text": [
      "Execution time: 0.7510662078857422 seconds\n",
      "Peak memory usage: 46.28125 MB\n"
     ]
    }
   ],
   "source": [
    "# KNN Classifier\n",
    "from sklearn.neighbors import KNeighborsClassifier\n",
    "import time\n",
    "from memory_profiler import memory_usage\n",
    "\n",
    "# Measure start time\n",
    "start_time = time.time()\n",
    "\n",
    "# Start memory profiler\n",
    "mem_usage = memory_usage()\n",
    "\n",
    "# Code snippet\n",
    "knn_model = KNeighborsClassifier(n_neighbors=11)\n",
    "knn_model.fit(X_train, y_train)\n",
    "y_knn = knn_model.predict(X_test)\n",
    "\n",
    "# End memory profiler\n",
    "mem_usage = memory_usage(max_usage=True)\n",
    "\n",
    "# Measure end time\n",
    "end_time = time.time()\n",
    "\n",
    "# Calculate execution time\n",
    "execution_time = end_time - start_time\n",
    "\n",
    "print(\"Execution time:\", execution_time, \"seconds\")\n",
    "print(\"Peak memory usage:\", mem_usage, \"MB\")"
   ]
  },
  {
   "cell_type": "code",
   "execution_count": null,
   "metadata": {},
   "outputs": [],
   "source": [
    "#SVM\n",
    "from sklearn.svm import SVC\n",
    "svm_model = SVC(kernel='linear')\n",
    "svm_model.fit(X_train,y_train)"
   ]
  },
  {
   "cell_type": "code",
   "execution_count": null,
   "metadata": {},
   "outputs": [],
   "source": [
    "svmy_pred = svm_model.predict(X_test)"
   ]
  },
  {
   "cell_type": "code",
   "execution_count": null,
   "metadata": {},
   "outputs": [],
   "source": [
    "from sklearn.metrics import classification report,confusion_matrix,accuracy_score\n",
    "print(classification_report(y_test,svmy_pred))"
   ]
  }
 ],
 "metadata": {
  "colab": {
   "provenance": []
  },
  "kernelspec": {
   "display_name": "Python 3 (ipykernel)",
   "language": "python",
   "name": "python3"
  },
  "language_info": {
   "codemirror_mode": {
    "name": "ipython",
    "version": 3
   },
   "file_extension": ".py",
   "mimetype": "text/x-python",
   "name": "python",
   "nbconvert_exporter": "python",
   "pygments_lexer": "ipython3",
   "version": "3.11.3"
  },
  "widgets": {
   "application/vnd.jupyter.widget-state+json": {
    "16f0cdeffadd4622931906f73250ec3e": {
     "model_module": "@jupyter-widgets/controls",
     "model_module_version": "1.5.0",
     "model_name": "DropdownModel",
     "state": {
      "_dom_classes": [],
      "_model_module": "@jupyter-widgets/controls",
      "_model_module_version": "1.5.0",
      "_model_name": "DropdownModel",
      "_options_labels": [
       "Quantity_std",
       "UnitPrice_std",
       "Country_code",
       "StockCode_code",
       "InvoiceDate_code",
       "observation_id",
       "cluster"
      ],
      "_view_count": null,
      "_view_module": "@jupyter-widgets/controls",
      "_view_module_version": "1.5.0",
      "_view_name": "DropdownView",
      "description": "x_col",
      "description_tooltip": null,
      "disabled": false,
      "index": 0,
      "layout": "IPY_MODEL_55332c443d9247ce8888c9e28917033c",
      "style": "IPY_MODEL_479d209b48034ca0b8834e231388320a"
     }
    },
    "479d209b48034ca0b8834e231388320a": {
     "model_module": "@jupyter-widgets/controls",
     "model_module_version": "1.5.0",
     "model_name": "DescriptionStyleModel",
     "state": {
      "_model_module": "@jupyter-widgets/controls",
      "_model_module_version": "1.5.0",
      "_model_name": "DescriptionStyleModel",
      "_view_count": null,
      "_view_module": "@jupyter-widgets/base",
      "_view_module_version": "1.2.0",
      "_view_name": "StyleView",
      "description_width": ""
     }
    },
    "53278b30dd7b42da9a3a4552da43495b": {
     "model_module": "@jupyter-widgets/output",
     "model_module_version": "1.0.0",
     "model_name": "OutputModel",
     "state": {
      "_dom_classes": [],
      "_model_module": "@jupyter-widgets/output",
      "_model_module_version": "1.0.0",
      "_model_name": "OutputModel",
      "_view_count": null,
      "_view_module": "@jupyter-widgets/output",
      "_view_module_version": "1.0.0",
      "_view_name": "OutputView",
      "layout": "IPY_MODEL_8d762ef6b65c404ba1f798ce81621576",
      "msg_id": "",
      "outputs": [
       {
        "data": {
         "image/png": "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\n",
         "text/plain": "<Figure size 1000x600 with 1 Axes>"
        },
        "metadata": {},
        "output_type": "display_data"
       }
      ]
     }
    },
    "55332c443d9247ce8888c9e28917033c": {
     "model_module": "@jupyter-widgets/base",
     "model_module_version": "1.2.0",
     "model_name": "LayoutModel",
     "state": {
      "_model_module": "@jupyter-widgets/base",
      "_model_module_version": "1.2.0",
      "_model_name": "LayoutModel",
      "_view_count": null,
      "_view_module": "@jupyter-widgets/base",
      "_view_module_version": "1.2.0",
      "_view_name": "LayoutView",
      "align_content": null,
      "align_items": null,
      "align_self": null,
      "border": null,
      "bottom": null,
      "display": null,
      "flex": null,
      "flex_flow": null,
      "grid_area": null,
      "grid_auto_columns": null,
      "grid_auto_flow": null,
      "grid_auto_rows": null,
      "grid_column": null,
      "grid_gap": null,
      "grid_row": null,
      "grid_template_areas": null,
      "grid_template_columns": null,
      "grid_template_rows": null,
      "height": null,
      "justify_content": null,
      "justify_items": null,
      "left": null,
      "margin": null,
      "max_height": null,
      "max_width": null,
      "min_height": null,
      "min_width": null,
      "object_fit": null,
      "object_position": null,
      "order": null,
      "overflow": null,
      "overflow_x": null,
      "overflow_y": null,
      "padding": null,
      "right": null,
      "top": null,
      "visibility": null,
      "width": null
     }
    },
    "77c3c81c88b54b1b805a6e210aff7741": {
     "model_module": "@jupyter-widgets/controls",
     "model_module_version": "1.5.0",
     "model_name": "VBoxModel",
     "state": {
      "_dom_classes": [
       "widget-interact"
      ],
      "_model_module": "@jupyter-widgets/controls",
      "_model_module_version": "1.5.0",
      "_model_name": "VBoxModel",
      "_view_count": null,
      "_view_module": "@jupyter-widgets/controls",
      "_view_module_version": "1.5.0",
      "_view_name": "VBoxView",
      "box_style": "",
      "children": [
       "IPY_MODEL_16f0cdeffadd4622931906f73250ec3e",
       "IPY_MODEL_e578592359714cff878e1815f6c51e88",
       "IPY_MODEL_53278b30dd7b42da9a3a4552da43495b"
      ],
      "layout": "IPY_MODEL_c9536dc16d054bc9a5df6ba6ded51f89"
     }
    },
    "7f52a28b4d3345d0b954295170eea700": {
     "model_module": "@jupyter-widgets/base",
     "model_module_version": "1.2.0",
     "model_name": "LayoutModel",
     "state": {
      "_model_module": "@jupyter-widgets/base",
      "_model_module_version": "1.2.0",
      "_model_name": "LayoutModel",
      "_view_count": null,
      "_view_module": "@jupyter-widgets/base",
      "_view_module_version": "1.2.0",
      "_view_name": "LayoutView",
      "align_content": null,
      "align_items": null,
      "align_self": null,
      "border": null,
      "bottom": null,
      "display": null,
      "flex": null,
      "flex_flow": null,
      "grid_area": null,
      "grid_auto_columns": null,
      "grid_auto_flow": null,
      "grid_auto_rows": null,
      "grid_column": null,
      "grid_gap": null,
      "grid_row": null,
      "grid_template_areas": null,
      "grid_template_columns": null,
      "grid_template_rows": null,
      "height": null,
      "justify_content": null,
      "justify_items": null,
      "left": null,
      "margin": null,
      "max_height": null,
      "max_width": null,
      "min_height": null,
      "min_width": null,
      "object_fit": null,
      "object_position": null,
      "order": null,
      "overflow": null,
      "overflow_x": null,
      "overflow_y": null,
      "padding": null,
      "right": null,
      "top": null,
      "visibility": null,
      "width": null
     }
    },
    "8d762ef6b65c404ba1f798ce81621576": {
     "model_module": "@jupyter-widgets/base",
     "model_module_version": "1.2.0",
     "model_name": "LayoutModel",
     "state": {
      "_model_module": "@jupyter-widgets/base",
      "_model_module_version": "1.2.0",
      "_model_name": "LayoutModel",
      "_view_count": null,
      "_view_module": "@jupyter-widgets/base",
      "_view_module_version": "1.2.0",
      "_view_name": "LayoutView",
      "align_content": null,
      "align_items": null,
      "align_self": null,
      "border": null,
      "bottom": null,
      "display": null,
      "flex": null,
      "flex_flow": null,
      "grid_area": null,
      "grid_auto_columns": null,
      "grid_auto_flow": null,
      "grid_auto_rows": null,
      "grid_column": null,
      "grid_gap": null,
      "grid_row": null,
      "grid_template_areas": null,
      "grid_template_columns": null,
      "grid_template_rows": null,
      "height": null,
      "justify_content": null,
      "justify_items": null,
      "left": null,
      "margin": null,
      "max_height": null,
      "max_width": null,
      "min_height": null,
      "min_width": null,
      "object_fit": null,
      "object_position": null,
      "order": null,
      "overflow": null,
      "overflow_x": null,
      "overflow_y": null,
      "padding": null,
      "right": null,
      "top": null,
      "visibility": null,
      "width": null
     }
    },
    "a38deb14210648459d499ad2503f76d0": {
     "model_module": "@jupyter-widgets/controls",
     "model_module_version": "1.5.0",
     "model_name": "DescriptionStyleModel",
     "state": {
      "_model_module": "@jupyter-widgets/controls",
      "_model_module_version": "1.5.0",
      "_model_name": "DescriptionStyleModel",
      "_view_count": null,
      "_view_module": "@jupyter-widgets/base",
      "_view_module_version": "1.2.0",
      "_view_name": "StyleView",
      "description_width": ""
     }
    },
    "c9536dc16d054bc9a5df6ba6ded51f89": {
     "model_module": "@jupyter-widgets/base",
     "model_module_version": "1.2.0",
     "model_name": "LayoutModel",
     "state": {
      "_model_module": "@jupyter-widgets/base",
      "_model_module_version": "1.2.0",
      "_model_name": "LayoutModel",
      "_view_count": null,
      "_view_module": "@jupyter-widgets/base",
      "_view_module_version": "1.2.0",
      "_view_name": "LayoutView",
      "align_content": null,
      "align_items": null,
      "align_self": null,
      "border": null,
      "bottom": null,
      "display": null,
      "flex": null,
      "flex_flow": null,
      "grid_area": null,
      "grid_auto_columns": null,
      "grid_auto_flow": null,
      "grid_auto_rows": null,
      "grid_column": null,
      "grid_gap": null,
      "grid_row": null,
      "grid_template_areas": null,
      "grid_template_columns": null,
      "grid_template_rows": null,
      "height": null,
      "justify_content": null,
      "justify_items": null,
      "left": null,
      "margin": null,
      "max_height": null,
      "max_width": null,
      "min_height": null,
      "min_width": null,
      "object_fit": null,
      "object_position": null,
      "order": null,
      "overflow": null,
      "overflow_x": null,
      "overflow_y": null,
      "padding": null,
      "right": null,
      "top": null,
      "visibility": null,
      "width": null
     }
    },
    "e578592359714cff878e1815f6c51e88": {
     "model_module": "@jupyter-widgets/controls",
     "model_module_version": "1.5.0",
     "model_name": "DropdownModel",
     "state": {
      "_dom_classes": [],
      "_model_module": "@jupyter-widgets/controls",
      "_model_module_version": "1.5.0",
      "_model_name": "DropdownModel",
      "_options_labels": [
       "Quantity_std",
       "UnitPrice_std",
       "Country_code",
       "StockCode_code",
       "InvoiceDate_code",
       "observation_id",
       "cluster"
      ],
      "_view_count": null,
      "_view_module": "@jupyter-widgets/controls",
      "_view_module_version": "1.5.0",
      "_view_name": "DropdownView",
      "description": "y_col",
      "description_tooltip": null,
      "disabled": false,
      "index": 0,
      "layout": "IPY_MODEL_7f52a28b4d3345d0b954295170eea700",
      "style": "IPY_MODEL_a38deb14210648459d499ad2503f76d0"
     }
    }
   }
  }
 },
 "nbformat": 4,
 "nbformat_minor": 4
}
